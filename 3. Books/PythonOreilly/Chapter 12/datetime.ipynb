{
 "cells": [
  {
   "cell_type": "code",
   "execution_count": 5,
   "metadata": {
    "collapsed": true
   },
   "outputs": [],
   "source": [
    "from datetime import datetime\n",
    "import pprint\n",
    "\n",
    "def convert2ampm(time24:str) -> str:\n",
    "    return datetime.strptime(time24, '%H:%M').strftime('%I:%M%p')"
   ]
  },
  {
   "cell_type": "code",
   "execution_count": 6,
   "metadata": {},
   "outputs": [
    {
     "name": "stdout",
     "output_type": "stream",
     "text": [
      "{'09:35': 'FREEPORT',\n",
      " '09:55': 'WEST END',\n",
      " '10:45': 'TREASURE CAY',\n",
      " '11:45': 'ROCK SOUND',\n",
      " '12:00': 'TREASURE CAY',\n",
      " '17:00': 'FREEPORT',\n",
      " '17:55': 'ROCK SOUND',\n",
      " '19:00': 'WEST END'}\n",
      "\n"
     ]
    }
   ],
   "source": [
    "with open('buzzers.csv') as data:\n",
    "    ignore = data.readline()\n",
    "    flights = {}\n",
    "    for line in data:\n",
    "        k, v = line.strip().split(',')\n",
    "        flights[k] = v\n",
    "pprint.pprint(flights)\n",
    "print()"
   ]
  },
  {
   "cell_type": "code",
   "execution_count": 7,
   "metadata": {},
   "outputs": [
    {
     "name": "stdout",
     "output_type": "stream",
     "text": [
      "dict_items([('09:35', 'FREEPORT'), ('17:00', 'FREEPORT'), ('09:55', 'WEST END'), ('19:00', 'WEST END'), ('10:45', 'TREASURE CAY'), ('12:00', 'TREASURE CAY'), ('11:45', 'ROCK SOUND'), ('17:55', 'ROCK SOUND')])\n"
     ]
    }
   ],
   "source": [
    "print (flights.items())"
   ]
  },
  {
   "cell_type": "code",
   "execution_count": 13,
   "metadata": {},
   "outputs": [
    {
     "name": "stdout",
     "output_type": "stream",
     "text": [
      "{'05:00PM': 'Freeport',\n",
      " '05:55PM': 'Rock Sound',\n",
      " '07:00PM': 'West End',\n",
      " '09:35AM': 'Freeport',\n",
      " '09:55AM': 'West End',\n",
      " '10:45AM': 'Treasure Cay',\n",
      " '11:45AM': 'Rock Sound',\n",
      " '12:00PM': 'Treasure Cay'}\n"
     ]
    }
   ],
   "source": [
    "flights2 = {}\n",
    "for k, v in flights.items():\n",
    "    flights2[convert2ampm(k)]=v.title()   \n",
    "pprint.pprint(flights2)"
   ]
  },
  {
   "cell_type": "markdown",
   "metadata": {},
   "source": [
    "## Генераторы"
   ]
  },
  {
   "cell_type": "code",
   "execution_count": 16,
   "metadata": {},
   "outputs": [],
   "source": [
    "destinations = []\n",
    "for dest in flights.values():\n",
    "    destinations.append(dest.title())\n",
    "\n",
    "more_dests = []\n",
    "more_dests = [dest.title()for dest in flights.values()] #генератор списков"
   ]
  },
  {
   "cell_type": "code",
   "execution_count": 17,
   "metadata": {},
   "outputs": [
    {
     "name": "stdout",
     "output_type": "stream",
     "text": [
      "['Freeport', 'Freeport', 'West End', 'West End', 'Treasure Cay', 'Treasure Cay', 'Rock Sound', 'Rock Sound']\n",
      "['Freeport', 'Freeport', 'West End', 'West End', 'Treasure Cay', 'Treasure Cay', 'Rock Sound', 'Rock Sound']\n"
     ]
    }
   ],
   "source": [
    "print(destinations)\n",
    "print(more_dests)"
   ]
  },
  {
   "cell_type": "code",
   "execution_count": 18,
   "metadata": {},
   "outputs": [
    {
     "ename": "NameError",
     "evalue": "name 'fts' is not defined",
     "output_type": "error",
     "traceback": [
      "\u001b[1;31m---------------------------------------------------------------------------\u001b[0m",
      "\u001b[1;31mNameError\u001b[0m                                 Traceback (most recent call last)",
      "\u001b[1;32m<ipython-input-18-0a1992098dca>\u001b[0m in \u001b[0;36m<module>\u001b[1;34m()\u001b[0m\n\u001b[1;32m----> 1\u001b[1;33m \u001b[0mdests\u001b[0m \u001b[1;33m=\u001b[0m \u001b[0mset\u001b[0m\u001b[1;33m(\u001b[0m\u001b[0mfts\u001b[0m\u001b[1;33m.\u001b[0m\u001b[0mvalues\u001b[0m\u001b[1;33m(\u001b[0m\u001b[1;33m)\u001b[0m\u001b[1;33m)\u001b[0m\u001b[1;33m\u001b[0m\u001b[0m\n\u001b[0m",
      "\u001b[1;31mNameError\u001b[0m: name 'fts' is not defined"
     ]
    }
   ],
   "source": [
    "dests = set(fts.values())"
   ]
  }
 ],
 "metadata": {
  "kernelspec": {
   "display_name": "Python 3",
   "language": "python",
   "name": "python3"
  },
  "language_info": {
   "codemirror_mode": {
    "name": "ipython",
    "version": 3
   },
   "file_extension": ".py",
   "mimetype": "text/x-python",
   "name": "python",
   "nbconvert_exporter": "python",
   "pygments_lexer": "ipython3",
   "version": "3.6.3"
  }
 },
 "nbformat": 4,
 "nbformat_minor": 2
}
