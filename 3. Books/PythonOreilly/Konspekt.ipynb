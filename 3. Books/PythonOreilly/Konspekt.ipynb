{
 "cells": [
  {
   "cell_type": "markdown",
   "metadata": {},
   "source": [
    "Модуль os - взаимодействие с операционной системой  \n",
    "Модуль sys - информация о системе, открывает доступ к внутренним механизмам интерпретатора  \n",
    "Модули datetime, time - дата/время и т.д.  "
   ]
  },
  {
   "cell_type": "code",
   "execution_count": 1,
   "metadata": {
    "collapsed": true
   },
   "outputs": [],
   "source": [
    "import datetime"
   ]
  },
  {
   "cell_type": "code",
   "execution_count": 3,
   "metadata": {},
   "outputs": [
    {
     "data": {
      "text/plain": [
       "datetime.date(2019, 1, 20)"
      ]
     },
     "execution_count": 3,
     "metadata": {},
     "output_type": "execute_result"
    }
   ],
   "source": [
    "datetime.date.today()"
   ]
  },
  {
   "cell_type": "code",
   "execution_count": 5,
   "metadata": {
    "collapsed": true
   },
   "outputs": [],
   "source": [
    "import time"
   ]
  },
  {
   "cell_type": "code",
   "execution_count": 6,
   "metadata": {},
   "outputs": [
    {
     "data": {
      "text/plain": [
       "'03:24'"
      ]
     },
     "execution_count": 6,
     "metadata": {},
     "output_type": "execute_result"
    }
   ],
   "source": [
    "time.strftime(\"%I:%M\")"
   ]
  },
  {
   "cell_type": "markdown",
   "metadata": {},
   "source": [
    "import HTML  \n",
    ".escape - экранирует теги  \n",
    ".unescepe - возвращает исходное состояние  "
   ]
  },
  {
   "cell_type": "markdown",
   "metadata": {},
   "source": [
    "pypi.python.org - репозиторий сообщества Python"
   ]
  },
  {
   "cell_type": "markdown",
   "metadata": {},
   "source": [
    "Списки в Python обозначаются квадратными скобками []"
   ]
  },
  {
   "cell_type": "markdown",
   "metadata": {},
   "source": [
    "Оператор in - проверяет находится ли что-то одно внутри другого"
   ]
  },
  {
   "cell_type": "code",
   "execution_count": 7,
   "metadata": {},
   "outputs": [
    {
     "name": "stdout",
     "output_type": "stream",
     "text": [
      "ODD\n"
     ]
    }
   ],
   "source": [
    "from datetime import datetime\n",
    "\n",
    "odds = [1,3,5,6,9,11,13,15,17,19,21,23,25,27,29,\n",
    "        31,33,35,37,39,41,43,45,47,49,51,53,55,57,59]\n",
    "\n",
    "right_this_minute = datetime.today().minute\n",
    "\n",
    "if right_this_minute in odds:\n",
    "    print(\"ODD\")\n",
    "else:\n",
    "    print(\"Not an ODD\")\n"
   ]
  },
  {
   "cell_type": "markdown",
   "metadata": {},
   "source": [
    "if:  \n",
    ">111  \n",
    "\n",
    "elif:  \n",
    ">222\n",
    "\n",
    "else:  \n",
    ">333"
   ]
  },
  {
   "cell_type": "code",
   "execution_count": 15,
   "metadata": {},
   "outputs": [
    {
     "name": "stdout",
     "output_type": "stream",
     "text": [
      "Not an ODD\n",
      "Not an ODD\n",
      "ODD\n",
      "ODD\n",
      "ODD\n"
     ]
    }
   ],
   "source": [
    "from datetime import datetime\n",
    "import time\n",
    "\n",
    "odds = [1,3,5,6,9,11,13,15,17,19,21,23,25,27,29,\n",
    "        31,33,35,37,39,41,43,45,47,49,51,53,55,57,59]\n",
    "\n",
    "\n",
    "for i in range(5):\n",
    "    \n",
    "    right_this_minute = datetime.today().minute\n",
    "    if right_this_minute in odds:\n",
    "        print(\"ODD\")\n",
    "    else:\n",
    "        print(\"Not an ODD\")\n",
    "    time.sleep(random.randint(1,5))"
   ]
  },
  {
   "cell_type": "markdown",
   "metadata": {},
   "source": [
    "Отступ для целого абзаца: выделить + TAB, выделить + ctrl + [ или ]"
   ]
  },
  {
   "cell_type": "markdown",
   "metadata": {},
   "source": [
    "import random  \n",
    "dir(random)  \n",
    "полный список доступных атрибутов"
   ]
  },
  {
   "cell_type": "code",
   "execution_count": 13,
   "metadata": {},
   "outputs": [
    {
     "name": "stdout",
     "output_type": "stream",
     "text": [
      "Help on method randint in module random:\n",
      "\n",
      "randint(a, b) method of random.Random instance\n",
      "    Return random integer in range [a, b], including both end points.\n",
      "\n"
     ]
    }
   ],
   "source": [
    "help(random.randint)"
   ]
  },
  {
   "cell_type": "markdown",
   "metadata": {
    "collapsed": true
   },
   "source": [
    "Список: упорядоченная коллекция объектов (как массив в других языках) - [1,2,3]  \n",
    "Кортеж: неизменяемый список  \n",
    "Словарь: неупорядоченная коллекция ключ:объект  \n",
    "Множество: структура данных без дублей"
   ]
  },
  {
   "cell_type": "markdown",
   "metadata": {},
   "source": [
    "Литеральный список - список, который заполняется в коде"
   ]
  },
  {
   "cell_type": "code",
   "execution_count": 3,
   "metadata": {},
   "outputs": [
    {
     "name": "stdout",
     "output_type": "stream",
     "text": [
      "[1, 2, 3, 4]\n"
     ]
    }
   ],
   "source": [
    "spisok = [1,2,3,4]\n",
    "print (spisok)"
   ]
  },
  {
   "cell_type": "code",
   "execution_count": 1,
   "metadata": {},
   "outputs": [
    {
     "name": "stdout",
     "output_type": "stream",
     "text": [
      "word: check it out\n",
      "e\n",
      "i\n",
      "o\n",
      "u\n"
     ]
    }
   ],
   "source": [
    "vowels = ['a','e','i','o','u']\n",
    "word = input(\"word: \")\n",
    "found = []\n",
    "\n",
    "for letter in word:\n",
    "    if letter in vowels:\n",
    "        if letter not in found:\n",
    "            found.append(letter)\n",
    "for vowel in found:\n",
    "    print(vowel)\n"
   ]
  },
  {
   "cell_type": "code",
   "execution_count": 8,
   "metadata": {},
   "outputs": [
    {
     "name": "stdout",
     "output_type": "stream",
     "text": [
      "word: check it out\n",
      "e\n",
      "i\n",
      "o\n",
      "u\n"
     ]
    }
   ],
   "source": [
    "vowels = ['a','e','i','o','u']\n",
    "word = input(\"word: \")\n",
    "found = []\n",
    "\n",
    "for letter in word:\n",
    "    if ((letter in vowels) and (letter not in found)):\n",
    "        found.append(letter)\n",
    "for vowel in found:\n",
    "    print(vowel)"
   ]
  },
  {
   "cell_type": "markdown",
   "metadata": {},
   "source": [
    "### Работа с объектами списка"
   ]
  },
  {
   "cell_type": "markdown",
   "metadata": {},
   "source": [
    "1. Метод remove - удаляет первое вхождение указанного значения из списка.  \n",
    "massiv.remove(3) - ищет значение 3 (это не индекс) и удаляет \n",
    "  \n",
    "2. Метод pop - удаляет из списка и возвращает объект по индексу. Если вызвать буз индекса, удаляет последний элемент.\n",
    "massiv.pop() - можно присвоить переменной, если не присвоить - удаляется из памяти  \n",
    "  \n",
    "3. Метод extend - метод принимает список и добавляет его в существующий список (в конец)  \n",
    "  \n",
    "4. Метод insert - вставляет объект в существующий список перед объектом с указанным индексом  \n",
    "  \n",
    "5. help(list) - другие методы работы со списками"
   ]
  },
  {
   "cell_type": "code",
   "execution_count": 16,
   "metadata": {},
   "outputs": [
    {
     "name": "stdout",
     "output_type": "stream",
     "text": [
      "[1, 3, 5]\n",
      "[1, 5]\n",
      "[1, 5, 1, 1, 1, 1, 1]\n",
      "[1, 5, 1, 'Первый аргумент это индекс', 1, 1, 1, 1]\n"
     ]
    }
   ],
   "source": [
    "massiv = [1,3,5,6]\n",
    "dop = [1,1,1,1,1]\n",
    "\n",
    "massiv.remove(6)\n",
    "print(massiv)\n",
    "\n",
    "massiv.pop(1)\n",
    "print(massiv)\n",
    "\n",
    "massiv.extend(dop)\n",
    "print(massiv)\n",
    "\n",
    "massiv.insert(3,\"Первый аргумент это индекс\")\n",
    "print(massiv)"
   ]
  },
  {
   "cell_type": "markdown",
   "metadata": {},
   "source": [
    "Для копирования списков не стоит использовать оператор присваивания, т.к. списки будут связаны (переменные будут ссылаться на одни и те же данные).  \n",
    "  \n",
    "massiv.copy() - copy - это метод для копирования массивов"
   ]
  },
  {
   "cell_type": "markdown",
   "metadata": {},
   "source": [
    "#### Работа со списками"
   ]
  },
  {
   "cell_type": "markdown",
   "metadata": {},
   "source": [
    "massiv[start:stop:step] - создание среза. По умолчанию start = 0, stop - последний элемент массива, step = 1"
   ]
  },
  {
   "cell_type": "code",
   "execution_count": 17,
   "metadata": {},
   "outputs": [
    {
     "name": "stdout",
     "output_type": "stream",
     "text": [
      "\t M\n",
      "\t a\n",
      "\t r\n",
      "\t v\n",
      "\t i\n",
      "\t n\n",
      "\t\t A\n",
      "\t\t n\n",
      "\t\t d\n",
      "\t\t r\n",
      "\t\t o\n",
      "\t\t i\n",
      "\t\t d\n",
      "\t\t\t P\n",
      "\t\t\t a\n",
      "\t\t\t r\n",
      "\t\t\t a\n",
      "\t\t\t n\n",
      "\t\t\t o\n",
      "\t\t\t i\n",
      "\t\t\t d\n"
     ]
    }
   ],
   "source": [
    "paranoid_android_2 = \"Marvin, the Paranoid Android\"\n",
    "letters_2 = list(paranoid_android_2)\n",
    "\n",
    "for char_2 in letters_2[:6]:\n",
    "    print('\\t', char_2)\n",
    "for char_2 in letters_2[-7:]:\n",
    "    print('\\t'*2, char_2)\n",
    "for char_2 in letters_2[12:20]:\n",
    "    print('\\t'*3, char_2)"
   ]
  },
  {
   "cell_type": "markdown",
   "metadata": {
    "collapsed": true
   },
   "source": [
    "## Словари"
   ]
  },
  {
   "cell_type": "markdown",
   "metadata": {},
   "source": [
    "dict = {key:obj}  \n",
    "Объекты храняться неупорядоченно  \n",
    "sorted(dict) - функция для вывода упорядоченного словаря  \n",
    "dict.items() - возвращает список пар ключ/значение"
   ]
  },
  {
   "cell_type": "code",
   "execution_count": 4,
   "metadata": {},
   "outputs": [
    {
     "name": "stdout",
     "output_type": "stream",
     "text": [
      "Help on built-in function sorted in module builtins:\n",
      "\n",
      "sorted(iterable, /, *, key=None, reverse=False)\n",
      "    Return a new list containing all items from the iterable in ascending order.\n",
      "    \n",
      "    A custom key function can be supplied to customize the sort order, and the\n",
      "    reverse flag can be set to request the result in descending order.\n",
      "\n"
     ]
    }
   ],
   "source": [
    "help(sorted)"
   ]
  },
  {
   "cell_type": "markdown",
   "metadata": {},
   "source": [
    "True и False - обозначение булевых переменных. С большой буквы"
   ]
  },
  {
   "cell_type": "code",
   "execution_count": 13,
   "metadata": {},
   "outputs": [
    {
     "data": {
      "text/plain": [
       "{'apples': 1, 'bananas': 1, 'pears': 1}"
      ]
     },
     "execution_count": 13,
     "metadata": {},
     "output_type": "execute_result"
    }
   ],
   "source": [
    "fruits = {}\n",
    "if 'bananas' in fruits:\n",
    "    fruits['bananas'] += 1\n",
    "else:\n",
    "    fruits['bananas'] = 1\n",
    "    \n",
    "if 'pears' not in fruits:\n",
    "    fruits['pears'] = 0\n",
    "fruits['pears'] += 1\n",
    "\n",
    "fruits.setdefault('apples',0)\n",
    "fruits['apples'] += 1\n",
    "\n",
    "fruits"
   ]
  },
  {
   "cell_type": "markdown",
   "metadata": {},
   "source": [
    "Метод setdefault() заменяет конструкцию if/not in (предыдущие строки кода). Происходит инициализация ключа до его использование, предотвращает получение ошибки KeyError"
   ]
  },
  {
   "cell_type": "markdown",
   "metadata": {},
   "source": [
    "## Множества"
   ]
  },
  {
   "cell_type": "markdown",
   "metadata": {},
   "source": [
    "mn = {}  \n",
    "обозначаются фигурными скобками, отличие от словарей в том, что нет двоеточия  \n",
    "Множества не хранят дубликаты."
   ]
  },
  {
   "cell_type": "code",
   "execution_count": 17,
   "metadata": {},
   "outputs": [
    {
     "data": {
      "text/plain": [
       "{'a', 'b', 'e', 'y'}"
      ]
     },
     "execution_count": 17,
     "metadata": {},
     "output_type": "execute_result"
    }
   ],
   "source": [
    "mnozh = set('aaaabbbbbeeeeyyyy')\n",
    "mnozh"
   ]
  },
  {
   "cell_type": "markdown",
   "metadata": {},
   "source": [
    "Метод set задает множество.  \n",
    "Метод union объединяет множества.  \n",
    "Метод difference сообщает какие объекты есть в одном, но отсутствуют в другом.  \n",
    "Метод intersection находит общие элементы множеств (пересечение)"
   ]
  },
  {
   "cell_type": "code",
   "execution_count": 25,
   "metadata": {},
   "outputs": [
    {
     "name": "stdout",
     "output_type": "stream",
     "text": [
      "{'u', 'e', 'i', 'a', 'o'}\n",
      "{'h', 'i', 'u', 'l', 'a', 'e', 'o'}\n",
      "['a', 'e', 'h', 'i', 'l', 'o', 'u']\n",
      "{'a', 'i', 'u'}\n",
      "{'e', 'o'}\n"
     ]
    }
   ],
   "source": [
    "mnozh = set('aeiou')\n",
    "word = 'hello'\n",
    "\n",
    "u = mnozh.union(set(word))\n",
    "u_list = sorted(set(u))\n",
    "\n",
    "print (mnozh)\n",
    "print (u)\n",
    "print (u_list)\n",
    "\n",
    "d = mnozh.difference(set(word))\n",
    "print(d)\n",
    "\n",
    "i = mnozh.intersection(set(word))\n",
    "print(i)"
   ]
  },
  {
   "cell_type": "markdown",
   "metadata": {},
   "source": [
    "## Кортежи"
   ]
  },
  {
   "cell_type": "markdown",
   "metadata": {},
   "source": [
    "Кортеж это неизменяемый список, обозначается двумя круглыми скобками ( ).\n",
    "При объявлении, кортеж должен содержать хотя бы одну запятую, иначе интерпретатор не поймёт, что это кортеж"
   ]
  },
  {
   "cell_type": "code",
   "execution_count": 35,
   "metadata": {},
   "outputs": [
    {
     "name": "stdout",
     "output_type": "stream",
     "text": [
      "<class 'tuple'>\n",
      "<class 'str'>\n",
      "<class 'tuple'>\n"
     ]
    }
   ],
   "source": [
    "kort = (1,2,3)\n",
    "print (type(kort))\n",
    "\n",
    "kortnekort = ('tuple')\n",
    "print (type(kortnekort))\n",
    "\n",
    "kortkort = ('tuple',)\n",
    "print (type(kortkort))"
   ]
  },
  {
   "cell_type": "markdown",
   "metadata": {},
   "source": [
    "## Сложные структуры данных"
   ]
  },
  {
   "cell_type": "markdown",
   "metadata": {},
   "source": [
    "Т.к. встроенные структуры данных в Python являются объектами, есть возможность комбинировать их в любом порядке. Т.е. создавать списки списков, кортежи списков множеств и т.д."
   ]
  },
  {
   "cell_type": "code",
   "execution_count": 47,
   "metadata": {},
   "outputs": [
    {
     "name": "stdout",
     "output_type": "stream",
     "text": [
      "{'Odin': {'Kluch1': 'Znachenie1', 'Kluch2': 'Znachenie2'}, 'Dva': {'Kluch1': 'Znachenie3', 'Kluch2': 'Znachenie4'}}\n",
      "\n",
      "\n",
      "{'Dva': {'Kluch1': 'Znachenie3', 'Kluch2': 'Znachenie4'},\n",
      " 'Odin': {'Kluch1': 'Znachenie1', 'Kluch2': 'Znachenie2'}}\n"
     ]
    }
   ],
   "source": [
    "spisok = {}\n",
    "spisok['Odin'] = {'Kluch1':'Znachenie1','Kluch2':'Znachenie2'}\n",
    "spisok['Dva'] = {'Kluch1':'Znachenie3','Kluch2':'Znachenie4'}\n",
    "print(spisok)\n",
    "print('\\n')\n",
    "\n",
    "import pprint\n",
    "pprint.pprint(spisok)"
   ]
  },
  {
   "cell_type": "markdown",
   "metadata": {},
   "source": [
    "Модуль pprint (pretty print) выводит значение у виде, удобном для чтения"
   ]
  },
  {
   "cell_type": "markdown",
   "metadata": {},
   "source": [
    "Обращение к элементам сложных структур при помощи нескольких квадратных скобок:"
   ]
  },
  {
   "cell_type": "code",
   "execution_count": 45,
   "metadata": {},
   "outputs": [
    {
     "data": {
      "text/plain": [
       "'Znachenie2'"
      ]
     },
     "execution_count": 45,
     "metadata": {},
     "output_type": "execute_result"
    }
   ],
   "source": [
    "spisok['Odin']['Kluch2']"
   ]
  },
  {
   "cell_type": "markdown",
   "metadata": {},
   "source": [
    "### Встроенные структуры данных\n",
    "l = list() - пустой список  \n",
    "d = dict() - пустой словарь  \n",
    "s = set() - пустое множество  \n",
    "t = tuple() - пустой кортеж"
   ]
  },
  {
   "cell_type": "markdown",
   "metadata": {},
   "source": [
    "## Рекомендации по коду Python\n",
    "https://www.python.org/dev/peps\n",
    "\n",
    "PEP 8 - рекомендации по оформлению кода\n",
    "PEP 257 - форматирование строк документации\n",
    "\n",
    "PEP8: https://pep8.org/  \n",
    "PEP8 по русски: http://pep8.ru/doc/pep8"
   ]
  },
  {
   "cell_type": "markdown",
   "metadata": {},
   "source": [
    "## Функции"
   ]
  },
  {
   "cell_type": "code",
   "execution_count": 1,
   "metadata": {
    "collapsed": true
   },
   "outputs": [],
   "source": [
    "def function_name(optional_arguments):\n",
    "    \"\"\"Строка документации\"\"\"\n",
    "    # Код функции\n",
    "    return optional_value"
   ]
  },
  {
   "cell_type": "markdown",
   "metadata": {},
   "source": [
    "### Функция bool\n",
    "Проверяет истинность или ложность объекта.\n",
    "Если объект равен нулю, пустая строка, пустой список, пустой словарь и None всегда оцениваются как False.\n",
    "\n",
    "bool(0)"
   ]
  },
  {
   "cell_type": "markdown",
   "metadata": {},
   "source": [
    "### Аннотации для документирования кода\n",
    "def search4vowels(word:str) -> set:  \n",
    "здесь после многоточия указывается тип данных, который ожидает функция, а после стрелки - возвращаемый тип данных"
   ]
  },
  {
   "cell_type": "markdown",
   "metadata": {},
   "source": [
    "### Значения по умолчанию для аргументов функции\n",
    "def search4vowels(word:str='aaaa') -> set:\n",
    "С помощью оператора присваивания. Если функция не получит аргументов при вызове, будет использовано значение указанное в def"
   ]
  },
  {
   "cell_type": "markdown",
   "metadata": {},
   "source": [
    "### Позиционные и именованные аргументы\n",
    "def search4letters(word:str='aaaa', letters:str='aeoiu') -> set:\n",
    "\n",
    "search4letters('wooord','aowe') - позиционное присваивание. Основано на порядке следования аргументов  \n",
    "search4letters(letters='aowe',word='wooord') - Присваивание по ключу. Порядок вызова не важен, удобно для сложных функций"
   ]
  },
  {
   "cell_type": "markdown",
   "metadata": {},
   "source": [
    "## Импортирование модулей\n",
    "При импортировании модулей (команда import) интерпретатор проверяет наличие запрашиваемого модуля в следующих местах:  \n",
    "    1. Текущий рабочий каталог  \n",
    "    2. Каталоги хранилища сторонних пакетов  \n",
    "    3. Каталоги стандартной библиотеки"
   ]
  },
  {
   "cell_type": "markdown",
   "metadata": {},
   "source": [
    "## Создание и установка модулей\n",
    "Создание модуля: 2 шага  \n",
    "1. Создать описание дистрибутива. В папку с .ру файлом нужно добавить файл setup.py и readme.txt. Оба файла являются обязательными\n",
    "2. Сгенерировать файл дистрибутива"
   ]
  },
  {
   "cell_type": "markdown",
   "metadata": {},
   "source": [
    "from setuptools import setup\n",
    "\n",
    "setup(  \n",
    "    name='vsearch',  \n",
    "    version='1.0',  \n",
    "    description='Poisk bukv',  \n",
    "    author='Darean',  \n",
    "    author_email='aaa@aaa.com',  \n",
    "    url='aaaaa.com',  \n",
    "    py_modules=['vsearch'],  \n",
    ")"
   ]
  },
  {
   "cell_type": "markdown",
   "metadata": {},
   "source": [
    "Генерация файла дистрибутива при помощи команды (командная строка из папки с файлами):  \n",
    "py -3 setup.py sdist (Windows)  \n",
    "python3 setup.py sdist (Linux)"
   ]
  },
  {
   "cell_type": "markdown",
   "metadata": {},
   "source": [
    "Установка модулей:  \n",
    "py -3 -m pip install vsearch-1.0.tar.gz  \n",
    "python3 -m pip install vsearch-1.0.tar.gz"
   ]
  },
  {
   "cell_type": "markdown",
   "metadata": {},
   "source": [
    "Веб репозиторий для модулей:  \n",
    "    https://pypi.python.org/pypi - репозиторий  \n",
    "    https://www.pypa.io - онлайн руководство  "
   ]
  },
  {
   "cell_type": "markdown",
   "metadata": {},
   "source": [
    "Страница 223 - описание передачи аргументов в функцию по значению и по ссылке. Если коротко - по ссылке передаются изменяемые аргументы (например списки) а по значению неизменяемые (целые числа, кортежи и т.д.). Оператор присваивания создает новое значение, поэтому переменные в основном коде не изменятся. А, например, использование .append к списку изменит список в основном коде."
   ]
  },
  {
   "cell_type": "markdown",
   "metadata": {},
   "source": [
    "## pytest - фреймворк тестирования программ на Python"
   ]
  },
  {
   "cell_type": "markdown",
   "metadata": {},
   "source": [
    "Плагин pep8 позволяет проверять код на соответствие стандартам PEP8.  \n",
    "py -3 -m pip install pytest  \n",
    "py -3 -m pip install pytest-pep8  \n",
    "\n",
    "py.test --pep8 vsearch.py - запуск"
   ]
  },
  {
   "cell_type": "markdown",
   "metadata": {},
   "source": [
    "## Создание веб-приложений. Фреймворк Flask"
   ]
  },
  {
   "cell_type": "markdown",
   "metadata": {},
   "source": [
    "Установка Flask с помощью pip  \n",
    "Открыть файл с кодом ниже через командную строку, не через IDLE.  \n",
    "http://flask.pocoo.org"
   ]
  },
  {
   "cell_type": "code",
   "execution_count": null,
   "metadata": {
    "collapsed": true
   },
   "outputs": [],
   "source": [
    "from flask import Flask\n",
    "\n",
    "app = Flask(__name__)\n",
    "\n",
    "@app.route('/')\n",
    "def hello() -> str:\n",
    "\treturn 'Hello World from Flask!'\n",
    "\n",
    "app.run()"
   ]
  },
  {
   "cell_type": "markdown",
   "metadata": {},
   "source": [
    "__name__ - определяется интерпретатором и когда используется в коде, устанавливается равным имени текущего активного модуля.\n",
    "@ - декоратор функции, позволяет добавить дополнительное поведение к функции, здесь URL / связывается с функцией hello"
   ]
  },
  {
   "cell_type": "code",
   "execution_count": null,
   "metadata": {
    "collapsed": true
   },
   "outputs": [],
   "source": [
    "from flask import Flask\n",
    "import vsearch\n",
    "\n",
    "app = Flask(__name__)\n",
    "\n",
    "@app.route('/')\n",
    "def hello() -> str:\n",
    "\treturn 'Hello World from Flask!'\n",
    "\n",
    "@app.route('/search4')\n",
    "def do_search() -> str:\n",
    "\treturn str(vsearch.search4letters('life, the universe, and everything!', 'eiru,!'))\n",
    "app.run()"
   ]
  },
  {
   "cell_type": "markdown",
   "metadata": {},
   "source": [
    "В состав Flask входит механизм HTML шаблонов - Jinja2."
   ]
  },
  {
   "cell_type": "markdown",
   "metadata": {},
   "source": [
    "base.hmtl - разметка, общая для всех страниц"
   ]
  },
  {
   "cell_type": "markdown",
   "metadata": {},
   "source": [
    "<html>\n",
    "    <head>\n",
    "        <title>{{ the_title }}</title>\n",
    "        <link rel=\"stylesheet\" href=\"static/hf.css\" />\n",
    "    </head>\n",
    "\t\n",
    "    <body>\n",
    "        {% block body %}\n",
    "\n",
    "        {% endblock %}\n",
    "    </body>\n",
    "</html>"
   ]
  },
  {
   "cell_type": "markdown",
   "metadata": {},
   "source": [
    "{{ }} - двойные фигурные скобки, директива Jinja2, которая указывает, что значение будет вставлено перед отправкой страницы.  \n",
    "{% %} - директивы Jinja2, которые указывают что сюда будет подставлен код HTML, который определяется страницей, наследующей шаблон."
   ]
  },
  {
   "cell_type": "markdown",
   "metadata": {},
   "source": [
    "Пример страницы, наследующей шаблон:"
   ]
  },
  {
   "cell_type": "markdown",
   "metadata": {},
   "source": [
    "{% extends 'base.html' %}\n",
    "\n",
    "{% block body %}\n",
    "\n",
    "<h2>{{ the_title }}</h2>\n",
    "\n",
    "<form method='POST' action='/search4'>\n",
    "<table>\n",
    "<p>Use this form to submit a search request:</p>\n",
    "<tr><td>Phrase:</td><td><input name='phrase' type='TEXT' width='60'></td></tr>\n",
    "<tr><td>Letters:</td><td><input name='letters' type='TEXT' value='aeiou'></td></tr>\n",
    "</table>\n",
    "<p>When you're ready, click this button:</p>\n",
    "<p><input value='Do it!' type='SUBMIT'></p>\n",
    "</form>\n",
    "\n",
    "{% endblock %}"
   ]
  },
  {
   "cell_type": "markdown",
   "metadata": {},
   "source": [
    "extends - указывает на то, что шаблон наследует базовый шаблон."
   ]
  },
  {
   "cell_type": "markdown",
   "metadata": {},
   "source": [
    "Для справки:  \n",
    "Коды состояния HTTP  \n",
    "100-199 - информационные сообщения  \n",
    "200-299 - сообщение об успехе  \n",
    "300-399 - перенаправление, говорит о том, что запрос может быть обработан в другом месте  \n",
    "400-499 - ошибка на стороне клиента  \n",
    "500-599 - ошибка на стороне сервера"
   ]
  },
  {
   "cell_type": "markdown",
   "metadata": {},
   "source": [
    "@app.route('/entry', methods=['POST']) - такая строка сообщит Flask что URL должен поддерживать метод POST"
   ]
  },
  {
   "cell_type": "markdown",
   "metadata": {},
   "source": [
    "app.run(debug=True) - включает режим отладки. Flask автоматически перезапускает приложение, когда видит, что код изменился."
   ]
  },
  {
   "cell_type": "markdown",
   "metadata": {},
   "source": [
    "В состав Flask входит встроенный объект request, который открывает доступ к переданным данным. Он содержит атрибут-словарь form с данными HTML-формы, отправленной браузером"
   ]
  },
  {
   "cell_type": "markdown",
   "metadata": {},
   "source": [
    "Для создания HTML страницы из кода используется render_template()  \n",
    "render_template('results.html',the_phrase = phrase,the_letters = letters,the_title = title,the_results = results)"
   ]
  },
  {
   "cell_type": "code",
   "execution_count": null,
   "metadata": {
    "collapsed": true
   },
   "outputs": [],
   "source": [
    "from flask import request\n",
    "@app.route('/search4',methods=['POST'])\n",
    "def do_search() -> str:\n",
    "\tphrase = request.form['phrase']\n",
    "\tletters = request.form['letters']\n",
    "\treturn str(vsearch.search4letters('life, the universe!', 'eiru,!'))"
   ]
  },
  {
   "cell_type": "code",
   "execution_count": null,
   "metadata": {
    "collapsed": true
   },
   "outputs": [],
   "source": [
    "Для перенаправления есть функция redirect()"
   ]
  },
  {
   "cell_type": "code",
   "execution_count": null,
   "metadata": {
    "collapsed": true
   },
   "outputs": [],
   "source": [
    "from flask import redirect\n",
    "def hello() -> '302':\n",
    "    return redirect('/entry')"
   ]
  },
  {
   "cell_type": "code",
   "execution_count": null,
   "metadata": {
    "collapsed": true
   },
   "outputs": [],
   "source": [
    "Для ассоциации одной функции с несколькими URL:\n",
    "@app.route('URL1')\n",
    "@app.route('URL2')\n",
    "def func():\n",
    "    ....\n",
    "\n",
    "Нужно указать два декоратора подряд, с целевыми URL"
   ]
  },
  {
   "cell_type": "code",
   "execution_count": null,
   "metadata": {
    "collapsed": true
   },
   "outputs": [],
   "source": [
    "Для автоматической проверки того, где выполняется программа:\n",
    "if __name__ == '__main__':\n",
    "\tapp.run(debug=True)"
   ]
  },
  {
   "cell_type": "markdown",
   "metadata": {},
   "source": [
    "Переменная __name__ возвращает значение __main__ в том случае, когда программа выполняется непосредственно. Если код импортируется как модуль, то __name__ не равна __main__. Что можно использовать для проверки необходимости исполнения строки app.run(debug=True) в облаке. В облаке приложение с исполнением app.run работать не будет. В блоке if происходит проверка, чему равна __name__ и т.к. в облаке приложение рассматривается как импортированный модуль, а не исполняется непосредственно, app.run исполнен не будет."
   ]
  },
  {
   "cell_type": "markdown",
   "metadata": {
    "collapsed": true
   },
   "source": [
    "## Хранение и обработка данных"
   ]
  },
  {
   "cell_type": "markdown",
   "metadata": {},
   "source": [
    "file = open('textfile.txt', 'a')  \n",
    "Для открытия текстовых файлов используется команда open. Аттрибуты:  \n",
    "'r' - открыть для чтения  \n",
    "'w' - открыть для записи  \n",
    "'a' - открыть файл для добавления в конец  \n",
    "'x' - открыть новый файл для записи  \n",
    "Режим для чтения используется по умолчанию, 'r' можно не указывать"
   ]
  },
  {
   "cell_type": "markdown",
   "metadata": {},
   "source": [
    "После завершения работы с файлом, нужно закрыть файловый поток:  \n",
    "textfile.close()"
   ]
  },
  {
   "cell_type": "markdown",
   "metadata": {},
   "source": [
    "Для работы с файлами удобнее использовать инструкцию with  \n",
    "with open('textfile.txt') as file(это имя переменной, как и в предыдущем случае):  \n",
    "Данная инструкция автоматически выполняет .close(), когда заканчивается блок программы"
   ]
  },
  {
   "cell_type": "markdown",
   "metadata": {},
   "source": [
    "print(text, end='') - end указывается для того, чтобы не появлялся символ переноса строки при выполнении print. Определяет символ конца строки  \n",
    "print(text1,text2, sep='||')   \n",
    "sep='' - определяет разделитель для нескольких объектов вывода"
   ]
  },
  {
   "cell_type": "markdown",
   "metadata": {},
   "source": [
    "Метод .read() считывает весь текстовый файл целиком"
   ]
  },
  {
   "cell_type": "markdown",
   "metadata": {},
   "source": [
    "Во Flask есть функция escape, которая переводит данные в экранированный HTML-эквивалент"
   ]
  },
  {
   "cell_type": "markdown",
   "metadata": {},
   "source": [
    ".dir() - возвращает список методов и атрибутов объекта"
   ]
  },
  {
   "cell_type": "markdown",
   "metadata": {},
   "source": [
    "## Работа со строками"
   ]
  },
  {
   "cell_type": "code",
   "execution_count": 5,
   "metadata": {},
   "outputs": [
    {
     "name": "stdout",
     "output_type": "stream",
     "text": [
      "1|2|3\n",
      "['1', '2', '3']\n"
     ]
    }
   ],
   "source": [
    "numbers=['1','2','3']\n",
    "joined = '|'.join(numbers)\n",
    "print (joined)\n",
    "splited = joined.split('|')\n",
    "print (splited)"
   ]
  },
  {
   "cell_type": "markdown",
   "metadata": {},
   "source": [
    ".split по умолчанию использует пробел как разделитель для разбиения"
   ]
  },
  {
   "cell_type": "markdown",
   "metadata": {
    "collapsed": true
   },
   "source": [
    "## MySQL"
   ]
  },
  {
   "cell_type": "markdown",
   "metadata": {},
   "source": [
    "create database vsearchDB;  - создание базы данных  \n",
    "create user 'vsearch'@'%' identified by 'vsearchpasswd';  \n",
    "grant all privileges on vsearchlogDB.* to 'vsearch'@'%'"
   ]
  },
  {
   "cell_type": "markdown",
   "metadata": {},
   "source": [
    "create table log (\n",
    "    -> id int auto_increment primary key,\n",
    "    -> ts timestamp default current_timestamp,\n",
    "    -> phrase varchar(128) not null,\n",
    "    -> letters varchar(32) not null,\n",
    "    -> ip varchar(16) not null,\n",
    "    -> browser_string varchar(256) not null,\n",
    "    -> results varchar(64) not null );"
   ]
  },
  {
   "cell_type": "markdown",
   "metadata": {},
   "source": [
    "describe log   \n",
    "+----------------+--------------+------+-----+-------------------+-------------------+\n",
    "| Field          | Type         | Null | Key | Default           | Extra             |\n",
    "+----------------+--------------+------+-----+-------------------+-------------------+\n",
    "| id             | int(11)      | NO   | PRI | NULL              | auto_increment    |\n",
    "| ts             | timestamp    | YES  |     | CURRENT_TIMESTAMP | DEFAULT_GENERATED |\n",
    "| phrase         | varchar(128) | NO   |     | NULL              |                   |\n",
    "| letters        | varchar(32)  | NO   |     | NULL              |                   |\n",
    "| ip             | varchar(16)  | NO   |     | NULL              |                   |\n",
    "| browser_string | varchar(256) | NO   |     | NULL              |                   |\n",
    "| results        | varchar(64)  | NO   |     | NULL              |                   |\n",
    "+----------------+--------------+------+-----+-------------------+-------------------+"
   ]
  },
  {
   "cell_type": "markdown",
   "metadata": {
    "collapsed": true
   },
   "source": [
    "## Работа с базой данных"
   ]
  },
  {
   "cell_type": "markdown",
   "metadata": {},
   "source": [
    "1. Характеристики соединения с базой данных"
   ]
  },
  {
   "cell_type": "code",
   "execution_count": 2,
   "metadata": {
    "collapsed": true
   },
   "outputs": [],
   "source": [
    "dbconfig = {'host': '127.0.0.1',\n",
    "            'user': 'vsearch',\n",
    "            'password': 'vsearchpasswd',\n",
    "            'database': 'vsearchlogDB',}"
   ]
  },
  {
   "cell_type": "markdown",
   "metadata": {},
   "source": [
    "2. Импорт драйвера базы данных"
   ]
  },
  {
   "cell_type": "code",
   "execution_count": null,
   "metadata": {
    "collapsed": true
   },
   "outputs": [],
   "source": [
    "import mysql.connector"
   ]
  },
  {
   "cell_type": "markdown",
   "metadata": {},
   "source": [
    "3. Установка соединения с сервером. Звездочки сообщают функции connect, что все аргументы передаются ей в единственном словаре"
   ]
  },
  {
   "cell_type": "code",
   "execution_count": null,
   "metadata": {
    "collapsed": true
   },
   "outputs": [],
   "source": [
    "conn = mysql.connector.connect(**dbconfig)"
   ]
  },
  {
   "cell_type": "markdown",
   "metadata": {},
   "source": [
    "4. Открытие курсора. Курсор - это эквивалент дескриптора файла (ссылка)"
   ]
  },
  {
   "cell_type": "code",
   "execution_count": null,
   "metadata": {
    "collapsed": true
   },
   "outputs": [],
   "source": [
    "cursor = conn.cursor()"
   ]
  },
  {
   "cell_type": "code",
   "execution_count": null,
   "metadata": {
    "collapsed": true
   },
   "outputs": [],
   "source": [
    "5. Работа с SQL"
   ]
  },
  {
   "cell_type": "code",
   "execution_count": null,
   "metadata": {
    "collapsed": true
   },
   "outputs": [],
   "source": [
    "_SQL =\"\"\"show tables\"\"\"\n",
    "cursor.execute(_SQL)"
   ]
  },
  {
   "cell_type": "markdown",
   "metadata": {},
   "source": [
    "Строки выше формируют запрос и отправляют его на MySQL сервер с помощью execute(). Когда ответ сервера получен, его нужно запросить:"
   ]
  },
  {
   "cell_type": "code",
   "execution_count": null,
   "metadata": {
    "collapsed": true
   },
   "outputs": [],
   "source": [
    "res = cursor.fetchall()\n",
    "res"
   ]
  },
  {
   "cell_type": "markdown",
   "metadata": {},
   "source": [
    "fetchall - возвращает все записи  \n",
    "fetchone - возвращает записи из результата по одной\n",
    "fetchmany - возвращает заданное количество записей"
   ]
  },
  {
   "cell_type": "markdown",
   "metadata": {},
   "source": [
    "\"\"\"describe log\"\"\" - запрашивает информацию о таблице log\n",
    "\"\"\"show tables\"\"\" - показывает список таблиц\n",
    "\"\"\"insert into log\"\"\" - вставляет данные в таблицу log"
   ]
  },
  {
   "cell_type": "code",
   "execution_count": null,
   "metadata": {
    "collapsed": true
   },
   "outputs": [],
   "source": [
    "_SQL = \"\"\"insert into log\n",
    "\t\t(phrase, letters, ip, browser_string, results)\n",
    "\t\tvalues\n",
    "\t\t(%s,%s,%s,%s,%s)\"\"\"\n",
    "cursor.execute(_SQL, ('hitch-hiker','xyz','127.0.0.1','Safari','set()'))"
   ]
  },
  {
   "cell_type": "markdown",
   "metadata": {},
   "source": [
    "%s - это метка заполнитель, на его место будут вставлены фактические значения переменных. Также данные можно вносить напрямую"
   ]
  },
  {
   "cell_type": "markdown",
   "metadata": {},
   "source": [
    "conn.commit() - принудительное кэширование данных таблицы. При внесении данных через insert БД может не сразу обновиться."
   ]
  },
  {
   "cell_type": "markdown",
   "metadata": {},
   "source": [
    "После окончания работы необходимо закрывать соединение и курсор"
   ]
  },
  {
   "cell_type": "raw",
   "metadata": {},
   "source": [
    "cursor.close()\n",
    "conn.close"
   ]
  },
  {
   "cell_type": "markdown",
   "metadata": {},
   "source": [
    "## Классы"
   ]
  },
  {
   "cell_type": "code",
   "execution_count": 4,
   "metadata": {
    "collapsed": true
   },
   "outputs": [],
   "source": [
    "class CountFromBy:\n",
    "\n",
    "    def __init__(self, v:int=0, i:int=1) -> None:\n",
    "        self.val = v\n",
    "        self.incr = i\n",
    "\n",
    "    def increase(self) -> None:\n",
    "        self.val += self.incr\n",
    "\n",
    "    def __repr__(self) -> str:\n",
    "        return str(self.val)"
   ]
  },
  {
   "cell_type": "markdown",
   "metadata": {},
   "source": [
    "Для создания метода используется ключевое слово class.  \n",
    "Магический метод __init__ позволяет присвоить начальные значения атрибутам в момент создания объекта класса.  \n",
    "Магический метод __repr__ позволяет управлять представлением объекта (какое значение выводится при обращении к объекту)\n",
    "Первым атрибутом любого метода должен быть self  \n",
    "Переменная типа self.val связана с объектом класса (который передан в метод через self)  \n",
    "Если использовать просто val (например) - это будет внутренняя переменная метода, которая уничтожится по завершении метода  "
   ]
  },
  {
   "cell_type": "markdown",
   "metadata": {},
   "source": [
    "с = CountFromBy() - создание объекта класса  \n",
    "Существует соглашение объекты называть с помощью CamelCase. Функции - с помощью нижних подчёркиваний и в нижнем регистре (function_name())"
   ]
  },
  {
   "cell_type": "markdown",
   "metadata": {},
   "source": [
    "c.increase = CountFromBy.increase(c) - как читает интерпретатор при вызове метода класса на объект"
   ]
  },
  {
   "cell_type": "code",
   "execution_count": 8,
   "metadata": {
    "collapsed": true
   },
   "outputs": [],
   "source": [
    "c = CountFromBy()"
   ]
  },
  {
   "cell_type": "code",
   "execution_count": 10,
   "metadata": {},
   "outputs": [
    {
     "name": "stdout",
     "output_type": "stream",
     "text": [
      "<class '__main__.CountFromBy'>\n",
      "2064471483392\n",
      "0x1e0ac16e400\n"
     ]
    }
   ],
   "source": [
    "print (type(c))\n",
    "print (id(c))\n",
    "print (hex(id(c)))"
   ]
  },
  {
   "cell_type": "markdown",
   "metadata": {
    "collapsed": true
   },
   "source": [
    "## Создание диспетчера контекста"
   ]
  },
  {
   "cell_type": "markdown",
   "metadata": {},
   "source": [
    "Методы классов:  \n",
    "__init__ - выполняет инициализацию\n",
    "__enter__ - выполняет найстройки\n",
    "__exit__ - выполняет завершение операции"
   ]
  },
  {
   "cell_type": "markdown",
   "metadata": {},
   "source": [
    "## MySQL запросы"
   ]
  },
  {
   "cell_type": "markdown",
   "metadata": {},
   "source": [
    "select * from tablename;\n",
    "select count(*) from table name; - количество записей в таблице*\n",
    "\n",
    "select count(letters) as 'count', letters\n",
    "from log\n",
    "group by letters\n",
    "order by count desc\n",
    "limit 1; список букв, встречающихся чаще всего\n",
    "\n",
    "select distinct ip from log - с каких ip приходили запросы\n",
    "\n",
    "select browser_string, count(browser_string) as 'count'\n",
    "from log\n",
    "group by browser_string\n",
    "order by count desc\n",
    "limit 1; - какой браузер использовался чаще всего\n"
   ]
  },
  {
   "cell_type": "markdown",
   "metadata": {
    "collapsed": true
   },
   "source": [
    "## Сеансы в Flask"
   ]
  },
  {
   "cell_type": "markdown",
   "metadata": {},
   "source": [
    "Для поддержки сеансов используется session - глобальный словарь, в котором хранится состояние веб-приложения."
   ]
  },
  {
   "cell_type": "code",
   "execution_count": null,
   "metadata": {
    "collapsed": true
   },
   "outputs": [],
   "source": [
    "from flask import Flask, session\n",
    "app = Flask(__name__)\n",
    "app.secret_key='keykeykey'\n",
    "\n",
    "@app.route('/setuser/<user>')\n",
    "def setuser(user:str) -> str:\n",
    "\tsession['user'] = user\n",
    "\treturn 'User value set to: ' + session['user']\n",
    "\t\n",
    "@app.route('/getuser')\n",
    "def getuser() -> str:\n",
    "\treturn 'User value is currently set to: ' + session['user']\n",
    "\t\n",
    "if __name__ == '__main__':\n",
    "\tapp.run(debug=True)"
   ]
  },
  {
   "cell_type": "markdown",
   "metadata": {},
   "source": [
    "secret_key - используется для шифрования cookie."
   ]
  },
  {
   "cell_type": "markdown",
   "metadata": {},
   "source": [
    "http://flask.pocoo.org/docs/0.11/api/sessions - больше про сеансы Flask"
   ]
  },
  {
   "cell_type": "markdown",
   "metadata": {},
   "source": [
    "## Создание функции принимающей любое количество аргументов или пар"
   ]
  },
  {
   "cell_type": "code",
   "execution_count": 2,
   "metadata": {
    "collapsed": true
   },
   "outputs": [],
   "source": [
    "def myfunc(*args):\n",
    "    for a in args:\n",
    "        print(a, end = ' ')\n",
    "    if args:\n",
    "        print()\n",
    "        \n",
    "def myfunc2(**kwargs):\n",
    "    for k,v in kwargs.items():\n",
    "        print (k,v, sep='->', end=' ')\n",
    "    if kwargs:\n",
    "        print()\n",
    "        \n",
    "def myfunc3(*args,**kwargs):\n",
    "    if args:\n",
    "        for a in args:\n",
    "            print(a, end = ' ')\n",
    "    if kwargs:\n",
    "        for k,v in kwargs.items():\n",
    "            print (k,v, sep='->', end=' ')"
   ]
  },
  {
   "cell_type": "code",
   "execution_count": null,
   "metadata": {
    "collapsed": true
   },
   "outputs": [],
   "source": [
    "kw - keywords"
   ]
  },
  {
   "cell_type": "code",
   "execution_count": 4,
   "metadata": {},
   "outputs": [
    {
     "name": "stdout",
     "output_type": "stream",
     "text": [
      "10 11 \n"
     ]
    }
   ],
   "source": [
    "myfunc(10,11)"
   ]
  },
  {
   "cell_type": "code",
   "execution_count": 8,
   "metadata": {},
   "outputs": [
    {
     "name": "stdout",
     "output_type": "stream",
     "text": [
      "a->10 b->20 \n"
     ]
    }
   ],
   "source": [
    "myfunc2(a=10,b=20)"
   ]
  },
  {
   "cell_type": "code",
   "execution_count": 9,
   "metadata": {},
   "outputs": [
    {
     "name": "stdout",
     "output_type": "stream",
     "text": [
      "10101 "
     ]
    }
   ],
   "source": [
    "myfunc3(10101)"
   ]
  },
  {
   "cell_type": "markdown",
   "metadata": {},
   "source": [
    "* - означает развернуть в список значений (список элементов)"
   ]
  },
  {
   "cell_type": "markdown",
   "metadata": {},
   "source": [
    "** - означает развернуть словарь ключей и значений. Равноценно вызову функции с несколькими отдельными именованными аргументами (словарь ключей и значений)"
   ]
  },
  {
   "cell_type": "markdown",
   "metadata": {},
   "source": [
    "## Декораторы"
   ]
  },
  {
   "cell_type": "markdown",
   "metadata": {},
   "source": [
    "Декораторы позволяют изменить поведение функции не меняя её код.  \n",
    "Создание декоратора:  \n",
    "    1. Декоратор - это функция\n",
    "    2. Декоратор принимает декорируемую функцию как аргумент\n",
    "    3. Декоратор возвращает новую функцию\n",
    "    4. Декоратор поддерживает сигнатуру декорируемой функции (убеждается что функция, которую он возвращает имеет такое же     количество аргументов того же типа, что и декорируемая функция."
   ]
  },
  {
   "cell_type": "code",
   "execution_count": null,
   "metadata": {
    "collapsed": true
   },
   "outputs": [],
   "source": [
    "from flask import session\n",
    "from functools import wraps\n",
    "\n",
    "def check_logged_in(func):\n",
    "\t@wraps(func)\n",
    "\tdef wrapper(*args,**kwargs):\n",
    "\t\tif 'logged_in' in session:\n",
    "\t\t\treturn func(*args,**kwargs)\n",
    "\t\telse:\n",
    "\t\t\treturn 'You are now logged OUT.'\n",
    "\treturn wrapper"
   ]
  },
  {
   "cell_type": "code",
   "execution_count": null,
   "metadata": {
    "collapsed": true
   },
   "outputs": [],
   "source": [
    "wraps - помогает при идентификации функции интерпретатором. Сам является декоратором."
   ]
  },
  {
   "cell_type": "markdown",
   "metadata": {},
   "source": [
    "## Обработка исключений"
   ]
  },
  {
   "cell_type": "markdown",
   "metadata": {},
   "source": [
    "Список встроенных исключений: https://docs.python.org/3/library/exceptions.html"
   ]
  },
  {
   "cell_type": "code",
   "execution_count": null,
   "metadata": {
    "collapsed": true
   },
   "outputs": [],
   "source": [
    "try:\n",
    "    with open('myfile.txt') as fh:\n",
    "        file_data = fh.read()\n",
    "    print (file_data)\n",
    "except FileNotFoundError:\n",
    "    print('File not found')\n",
    "except:\n",
    "    print('Other error')"
   ]
  },
  {
   "cell_type": "markdown",
   "metadata": {},
   "source": [
    "Блок try except позволяет обрабатывать исключения, если в коде внутри блока try происходит ошибка, выполняется код из except (зависит от типа ошибки). Инструкция except: - универсальная, обрабатывает все те ошибки, которые не попали под другие except."
   ]
  },
  {
   "cell_type": "code",
   "execution_count": 3,
   "metadata": {},
   "outputs": [
    {
     "name": "stdout",
     "output_type": "stream",
     "text": [
      "<class 'ZeroDivisionError'>\n",
      "division by zero\n",
      "<traceback object at 0x000001C23C480B48>\n"
     ]
    }
   ],
   "source": [
    "import sys\n",
    "try:\n",
    "    1/0\n",
    "except:\n",
    "    err = sys.exc_info()\n",
    "    for e in err:\n",
    "        print(e)"
   ]
  },
  {
   "cell_type": "markdown",
   "metadata": {},
   "source": [
    "sys.exc_info - возвращает кортеж содержащий информацию об исключении. Тип исключения, значение исключения, объект трассировки."
   ]
  },
  {
   "cell_type": "code",
   "execution_count": null,
   "metadata": {
    "collapsed": true
   },
   "outputs": [],
   "source": [
    "try:\n",
    "    with open('myfile.txt') as fh:\n",
    "        file_data = fh.read()\n",
    "    print (file_data)\n",
    "except Exception as err:\n",
    "    print ('Error occured: ', str(err))"
   ]
  },
  {
   "cell_type": "markdown",
   "metadata": {},
   "source": [
    "except Exeption - перехватывает любые ошибки"
   ]
  },
  {
   "cell_type": "markdown",
   "metadata": {},
   "source": [
    "raise Exception(\"Exception.\")  \n",
    "raise - генерирует пользовательское исключение."
   ]
  },
  {
   "cell_type": "markdown",
   "metadata": {},
   "source": [
    "## Многопоточность"
   ]
  },
  {
   "cell_type": "markdown",
   "metadata": {},
   "source": [
    "Библиотека threading обеспечивает поддержку многопоточности"
   ]
  },
  {
   "cell_type": "markdown",
   "metadata": {},
   "source": [
    "from threading import Thread  \n",
    "t = Thread(target=function_name, args = (arg1,arg2,arg3))  \n",
    "t.start()  \n",
    "  \n",
    "@copy_current_request_context - декоратор гарантирует, что HTTP-запрос, который активен в момент вызова функции, остается активным, когда функция позже запустится в этом потоке. Если его не применить, интерпретатор может очистить память и удалить значения переменных до того, как будет запущен поток."
   ]
  },
  {
   "cell_type": "markdown",
   "metadata": {},
   "source": [
    "Документация по параллельной работе: https://docs.python.org/3/library/concurrency.html"
   ]
  },
  {
   "cell_type": "markdown",
   "metadata": {},
   "source": [
    "## CSV"
   ]
  },
  {
   "cell_type": "code",
   "execution_count": null,
   "metadata": {
    "collapsed": true
   },
   "outputs": [],
   "source": [
    "import csv\n",
    "csv.reader(data) - превращает строки в списки из нескольких элементов\n",
    "csv.DictReader(data) - возвращает данные из файла в виде коллекции словарей"
   ]
  },
  {
   "cell_type": "code",
   "execution_count": null,
   "metadata": {
    "collapsed": true
   },
   "outputs": [],
   "source": [
    "Работа со строками\n",
    "s.strip() - удаляет пробелы в начале и конце строки\n",
    "s.title - первые буквы слов - заглавные. "
   ]
  },
  {
   "cell_type": "code",
   "execution_count": null,
   "metadata": {
    "collapsed": true
   },
   "outputs": [],
   "source": [
    "Конвертация времени\n",
    "from datetime import datetime\n",
    "def convert2ampm(time24:str) -> str:\n",
    "    return datetime.strtime(time24, '%H:%M').strftime('%I:%M%p')"
   ]
  },
  {
   "cell_type": "markdown",
   "metadata": {},
   "source": [
    "## Генераторы"
   ]
  },
  {
   "cell_type": "markdown",
   "metadata": {},
   "source": [
    "Генераторы это краткий синтаксис записи стандартной конструкции цикла for. Выполняются быстрее"
   ]
  },
  {
   "cell_type": "code",
   "execution_count": 12,
   "metadata": {},
   "outputs": [
    {
     "name": "stdout",
     "output_type": "stream",
     "text": [
      "{'09:35': 'FREEPORT',\n",
      " '09:55': 'WEST END',\n",
      " '10:45': 'TREASURE CAY',\n",
      " '11:45': 'ROCK SOUND',\n",
      " '12:00': 'TREASURE CAY',\n",
      " '17:00': 'FREEPORT',\n",
      " '17:55': 'ROCK SOUND',\n",
      " '19:00': 'WEST END'}\n",
      "\n"
     ]
    }
   ],
   "source": [
    "import os, pprint\n",
    "from datetime import datetime\n",
    "def convert2ampm(time24:str) -> str:\n",
    "    return datetime.strptime(time24, '%H:%M').strftime('%I:%M%p')\n",
    "os.chdir('C:/1.Study/PythonOreilly/Chapter 12')\n",
    "with open('buzzers.csv') as data:\n",
    "    ignore = data.readline()\n",
    "    flights = {}\n",
    "    for line in data:\n",
    "        k, v = line.strip().split(',')\n",
    "        flights[k] = v\n",
    "pprint.pprint(flights)\n",
    "print()"
   ]
  },
  {
   "cell_type": "code",
   "execution_count": 8,
   "metadata": {},
   "outputs": [
    {
     "name": "stdout",
     "output_type": "stream",
     "text": [
      "['Freeport', 'Freeport', 'West End', 'West End', 'Treasure Cay', 'Treasure Cay', 'Rock Sound', 'Rock Sound']\n",
      "['Freeport', 'Freeport', 'West End', 'West End', 'Treasure Cay', 'Treasure Cay', 'Rock Sound', 'Rock Sound']\n"
     ]
    }
   ],
   "source": [
    "destinations = []\n",
    "for dest in flights.values():\n",
    "    destinations.append(dest.title())\n",
    "\n",
    "more_dests = []\n",
    "more_dests = [dest.title()for dest in flights.values()] #генератор списков\n",
    "\n",
    "print(destinations)\n",
    "print(more_dests)"
   ]
  },
  {
   "cell_type": "markdown",
   "metadata": {},
   "source": [
    "Генераторы позволяют заменить три строки код одной. Позволяют расположить цикл for справа от оператора присваивания."
   ]
  },
  {
   "cell_type": "code",
   "execution_count": 18,
   "metadata": {},
   "outputs": [
    {
     "name": "stdout",
     "output_type": "stream",
     "text": [
      "{'05:00PM': 'Freeport',\n",
      " '05:55PM': 'Rock Sound',\n",
      " '07:00PM': 'West End',\n",
      " '09:35AM': 'Freeport',\n",
      " '09:55AM': 'West End',\n",
      " '10:45AM': 'Treasure Cay',\n",
      " '11:45AM': 'Rock Sound',\n",
      " '12:00PM': 'Treasure Cay'}\n",
      "\n",
      "{'05:00PM': 'Freeport',\n",
      " '05:55PM': 'Rock Sound',\n",
      " '07:00PM': 'West End',\n",
      " '09:35AM': 'Freeport',\n",
      " '09:55AM': 'West End',\n",
      " '10:45AM': 'Treasure Cay',\n",
      " '11:45AM': 'Rock Sound',\n",
      " '12:00PM': 'Treasure Cay'}\n"
     ]
    }
   ],
   "source": [
    "flights2 = {}\n",
    "for k, v in flights.items():\n",
    "    flights2[convert2ampm(k)]=v.title()   \n",
    "\n",
    "more_flights = {}\n",
    "more_flights = {convert2ampm(k): v.title() for k,v in flights.items()} # Генератор словарей\n",
    "\n",
    "pprint.pprint(flights2)\n",
    "print()\n",
    "pprint.pprint(more_flights)"
   ]
  },
  {
   "cell_type": "code",
   "execution_count": 20,
   "metadata": {},
   "outputs": [
    {
     "name": "stdout",
     "output_type": "stream",
     "text": [
      "{'05:00PM': 'Freeport', '09:35AM': 'Freeport'}\n"
     ]
    }
   ],
   "source": [
    "more_flightsF = {}\n",
    "more_flightsF = {convert2ampm(k): v.title() \n",
    "                 for k,v in flights.items() \n",
    "                 if v == 'FREEPORT'} # Генератор словарей с фильтром\n",
    "pprint.pprint(more_flightsF)"
   ]
  },
  {
   "cell_type": "code",
   "execution_count": 26,
   "metadata": {},
   "outputs": [
    {
     "name": "stdout",
     "output_type": "stream",
     "text": [
      "{'West End', 'Freeport', 'Rock Sound', 'Treasure Cay'}\n",
      "['09:35AM', '05:00PM']\n"
     ]
    }
   ],
   "source": [
    "fts = flights2.copy()\n",
    "dests = set(fts.values())\n",
    "print(dests)\n",
    "\n",
    "aaa = [k for k,v in fts.items() if v ==\"Freeport\"]\n",
    "print(aaa)"
   ]
  },
  {
   "cell_type": "code",
   "execution_count": 27,
   "metadata": {},
   "outputs": [
    {
     "name": "stdout",
     "output_type": "stream",
     "text": [
      "West End -> ['09:55AM', '07:00PM']\n",
      "Freeport -> ['09:35AM', '05:00PM']\n",
      "Rock Sound -> ['11:45AM', '05:55PM']\n",
      "Treasure Cay -> ['10:45AM', '12:00PM']\n"
     ]
    }
   ],
   "source": [
    "for dest in set(fts.values()):\n",
    "    print(dest,'->',[k for k,v in fts.items() if v == dest])"
   ]
  },
  {
   "cell_type": "code",
   "execution_count": 32,
   "metadata": {},
   "outputs": [
    {
     "name": "stdout",
     "output_type": "stream",
     "text": [
      "{'Freeport': ['09:35AM', '05:00PM'],\n",
      " 'Rock Sound': ['11:45AM', '05:55PM'],\n",
      " 'Treasure Cay': ['10:45AM', '12:00PM'],\n",
      " 'West End': ['09:55AM', '07:00PM']}\n"
     ]
    }
   ],
   "source": [
    "when = {}\n",
    "for dest in set(fts.values()):\n",
    "    when[dest] = [k for k,v in fts.items() if v == dest]\n",
    "pprint.pprint(when)"
   ]
  },
  {
   "cell_type": "code",
   "execution_count": 31,
   "metadata": {},
   "outputs": [
    {
     "name": "stdout",
     "output_type": "stream",
     "text": [
      "{'Freeport': ['09:35AM', '05:00PM'],\n",
      " 'Rock Sound': ['11:45AM', '05:55PM'],\n",
      " 'Treasure Cay': ['10:45AM', '12:00PM'],\n",
      " 'West End': ['09:55AM', '07:00PM']}\n"
     ]
    }
   ],
   "source": [
    "when2 = {dest: [k for k,v in fts.items() if v == dest] for dest in set(fts.values())}\n",
    "pprint.pprint(when2)"
   ]
  },
  {
   "cell_type": "markdown",
   "metadata": {},
   "source": [
    "В круглых скобках помещается выражение-генератор. Выдает такой же результат как генератор списков, но работает по-другому. Если генератор списков должен завершить свою работу перед тем, как код продолжит выполняться, выражение-генератор возвращает данные по мере создания."
   ]
  },
  {
   "cell_type": "code",
   "execution_count": 44,
   "metadata": {},
   "outputs": [
    {
     "name": "stdout",
     "output_type": "stream",
     "text": [
      "27384 -> 200 -> https://www.oreilly.com\n",
      "27384 -> 200 -> https://www.oreilly.com/\n",
      "202409 -> 200 -> https://twitter.com/\n"
     ]
    }
   ],
   "source": [
    "urls = ('http://headfirstlabs.com', 'http://oreilly.com', 'http://twitter.com')\n",
    "for resp in [requests.get(url) for url in urls]: #если заменить на круглые скобки, будет выдавать по одному значению, \n",
    "                                                    #а так - сразу все\n",
    "    print(len(resp.content), '->', resp.status_code,'->',resp.url)"
   ]
  },
  {
   "cell_type": "markdown",
   "metadata": {},
   "source": [
    "Ключевое слово yield превращает функцию в функцию-генератор и используется вместо return. Выполнение функции как-бы приостанавливается. В коде ниже после получения информации об адресе через requests.get(url), yield возвращает результат в цикл for, где выполняется команда print() с полученными данными, затем начинается следующая иттерация цикла for, но функция не вызывается заново, она продолжает свою работу с места остановки."
   ]
  },
  {
   "cell_type": "code",
   "execution_count": 42,
   "metadata": {},
   "outputs": [],
   "source": [
    "import requests\n",
    "\n",
    "def gen_from_urls(urls: tuple) -> tuple:\n",
    "    for resp in (requests.get(url) for url in urls):\n",
    "        yield len(resp.content),resp.status_code,resp.url"
   ]
  },
  {
   "cell_type": "code",
   "execution_count": 45,
   "metadata": {},
   "outputs": [
    {
     "name": "stdout",
     "output_type": "stream",
     "text": [
      "27384 200 https://www.oreilly.com\n",
      "27384 200 https://www.oreilly.com/\n",
      "202409 200 https://twitter.com/\n"
     ]
    }
   ],
   "source": [
    "for resp_len, status, url in gen_from_urls(urls):\n",
    "    print(resp_len,status,url)"
   ]
  },
  {
   "cell_type": "code",
   "execution_count": 47,
   "metadata": {},
   "outputs": [
    {
     "name": "stdout",
     "output_type": "stream",
     "text": [
      "{'https://twitter.com/': 202409,\n",
      " 'https://www.oreilly.com': 27384,\n",
      " 'https://www.oreilly.com/': 27384}\n"
     ]
    }
   ],
   "source": [
    "urls_res = {url: size for size,_,url in gen_from_urls(urls)} #символ _ - имя переменной по умолчанию. Т.к. не исползуется здесь.\n",
    "pprint.pprint(urls_res)"
   ]
  }
 ],
 "metadata": {
  "kernelspec": {
   "display_name": "Python 3",
   "language": "python",
   "name": "python3"
  },
  "language_info": {
   "codemirror_mode": {
    "name": "ipython",
    "version": 3
   },
   "file_extension": ".py",
   "mimetype": "text/x-python",
   "name": "python",
   "nbconvert_exporter": "python",
   "pygments_lexer": "ipython3",
   "version": "3.6.6"
  }
 },
 "nbformat": 4,
 "nbformat_minor": 2
}
