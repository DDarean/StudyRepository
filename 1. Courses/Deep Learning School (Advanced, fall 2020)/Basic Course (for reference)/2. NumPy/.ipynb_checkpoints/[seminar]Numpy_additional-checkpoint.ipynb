{
 "cells": [
  {
   "cell_type": "markdown",
   "metadata": {
    "colab_type": "text",
    "id": "YBR_QpdoH6KQ"
   },
   "source": [
    "<p style=\"align: center;\"><img align=center src=\"https://s8.hostingkartinok.com/uploads/images/2018/08/308b49fcfbc619d629fe4604bceb67ac.jpg\" width=500 height=450/></p>\n",
    "\n",
    "<h3 style=\"text-align: center;\"><b>\"Глубокое обучение\". Продвинутый поток</b></h3>\n",
    "\n",
    "<h2 style=\"text-align: center;\"><b>Семинар 3. Задачи по Numpy</b></h2>\n",
    "\n",
    "Вам предлагается решить задачи ниже."
   ]
  },
  {
   "cell_type": "code",
   "execution_count": 0,
   "metadata": {
    "colab": {},
    "colab_type": "code",
    "id": "O9q3N_FYH6KS"
   },
   "outputs": [],
   "source": [
    "import numpy as np"
   ]
  },
  {
   "cell_type": "markdown",
   "metadata": {
    "colab_type": "text",
    "id": "xvR_4lYSH6KW"
   },
   "source": [
    "### Верхнетреугольная матрица\n",
    "Напишите код, чтобы получить верхнетреугольную матрицу, обнулив все ненужные элементы.\n",
    "(Верхнетреугольная матрица - такая матрица, что все числа под главной диагональю = 0)\n",
    "\n",
    "Самое простое решение - загуглить, потому что почти для всего в numpy есть готовое решение:)"
   ]
  },
  {
   "cell_type": "code",
   "execution_count": 0,
   "metadata": {
    "colab": {},
    "colab_type": "code",
    "id": "8hxP6i-BH6KY"
   },
   "outputs": [],
   "source": [
    "def get_triangular_matrix(A):\n",
    "    return np.triu(A)"
   ]
  },
  {
   "cell_type": "code",
   "execution_count": 4,
   "metadata": {
    "colab": {
     "base_uri": "https://localhost:8080/",
     "height": 68
    },
    "colab_type": "code",
    "executionInfo": {
     "elapsed": 645,
     "status": "ok",
     "timestamp": 1583764791764,
     "user": {
      "displayName": "Валентин Олегович Шалимов",
      "photoUrl": "",
      "userId": "07542786262242293608"
     },
     "user_tz": -180
    },
    "id": "-Q17Q1nfH6Kb",
    "outputId": "b72436ba-70dd-4281-e9d0-5a30a455ee67"
   },
   "outputs": [
    {
     "data": {
      "text/plain": [
       "array([[1, 2, 3],\n",
       "       [0, 5, 6],\n",
       "       [0, 0, 9]])"
      ]
     },
     "execution_count": 4,
     "metadata": {
      "tags": []
     },
     "output_type": "execute_result"
    }
   ],
   "source": [
    "A = np.array([\n",
    "    [1, 2, 3],\n",
    "    [4, 5, 6],\n",
    "    [7, 8, 9]\n",
    "])\n",
    "\n",
    "get_triangular_matrix(A)"
   ]
  },
  {
   "cell_type": "markdown",
   "metadata": {
    "colab_type": "text",
    "id": "tirYdDTSH6Ke"
   },
   "source": [
    "# Broadcasting\n",
    "\n",
    "На самом деле, можно поэлементно складывать/умножать итд массивы с несовпадающими размерами. Это называется broadcasting (ссылка на документацию https://docs.scipy.org/doc/numpy-1.15.0/user/basics.broadcasting.html). В процессе broadcasting'a numpy  пытается сделать shape обоих массивов одинаковым, чтобы провести нужную операцию.\n",
    "\n",
    "Для этого проводится сравнение размерностей, начиная с последних размерностей. Размерности совместимы, если\n",
    "1. Количество элементов по этой размерности совпадает.\n",
    "2. Количество элементов в одной из размернойстей равно 1.\n",
    "\n",
    "Допустим, у нас было два массива, которые мы складываем:\n",
    "\n",
    "$shape_1 = (1, 2, 1)$,\n",
    "$shape_2 = (2, 100)$.\n",
    "\n",
    "Тогда можно считать, что после броадкастинга получатся массивы с shape = (1, 2, 100) и уже они сложатся"
   ]
  },
  {
   "cell_type": "code",
   "execution_count": 0,
   "metadata": {
    "colab": {},
    "colab_type": "code",
    "id": "od_vSKWoH6Kf"
   },
   "outputs": [],
   "source": [
    "a = np.array([1, 2, 3])\n",
    "b = np.array([\n",
    "    [0, 1, 2],\n",
    "    [3, 4, 5]\n",
    "])\n",
    "\n",
    "print(a.shape)\n",
    "print(b.shape)\n",
    "print((a + b).shape)"
   ]
  },
  {
   "cell_type": "code",
   "execution_count": 0,
   "metadata": {
    "colab": {},
    "colab_type": "code",
    "id": "wNnoVfplH6Ki"
   },
   "outputs": [],
   "source": [
    "a = a.reshape(1, 1, 3)\n",
    "print(a.shape)\n",
    "print(b.shape)\n",
    "print((a + b).shape)"
   ]
  },
  {
   "cell_type": "markdown",
   "metadata": {
    "colab_type": "text",
    "id": "5pBrUYNzH6Kk"
   },
   "source": [
    "Вообще говоря, чем использовать Broadcating, лучше в явном виде прописывать все размерности. Если размерности обоих тензоров совпадают (например, они оба трёхмерные), тогда необходимо, чтобы соответствующие элементы кортежей формы либо совпадали, либо один из них был равен 1.\n",
    "\n",
    "Пример:"
   ]
  },
  {
   "cell_type": "code",
   "execution_count": 0,
   "metadata": {
    "colab": {},
    "colab_type": "code",
    "id": "BP_qQceoH6Kl"
   },
   "outputs": [],
   "source": [
    "a + b[np.newaxis, :, :].shape"
   ]
  },
  {
   "cell_type": "markdown",
   "metadata": {
    "colab_type": "text",
    "id": "ToFQSWPEH6Ko"
   },
   "source": [
    "### Ромбик\n",
    "Напишите код, чтобы в квадратной матрице 5 * 5 из нулей получить ромб, который касается середин сторон квадрата"
   ]
  },
  {
   "cell_type": "code",
   "execution_count": 0,
   "metadata": {
    "colab": {},
    "colab_type": "code",
    "id": "8j83rScbH6Kp"
   },
   "outputs": [],
   "source": [
    "A = np.zeros(shape=(5,5))\n",
    "\n",
    "a = np.array([2,1,0,1,2])[None,:]\n",
    "b = np.array([2,1,0,1,2])[:, None]\n",
    "\n",
    "A = (a+b == 2)*1\n"
   ]
  },
  {
   "cell_type": "markdown",
   "metadata": {
    "colab_type": "text",
    "id": "duMUbpXxH6Ks"
   },
   "source": [
    "# Как правильно выбрать оси?\n",
    "\n"
   ]
  },
  {
   "cell_type": "markdown",
   "metadata": {
    "colab_type": "text",
    "id": "b36JYkIFH6Ks"
   },
   "source": [
    "### Безобидная задача на кумулятивные суммы\n",
    "Дана матрица $M \\times N$. Напишите функцию, которая возвращает вектор средних значений по вертикали. "
   ]
  },
  {
   "cell_type": "code",
   "execution_count": 17,
   "metadata": {
    "colab": {
     "base_uri": "https://localhost:8080/",
     "height": 34
    },
    "colab_type": "code",
    "executionInfo": {
     "elapsed": 629,
     "status": "ok",
     "timestamp": 1583765351320,
     "user": {
      "displayName": "Валентин Олегович Шалимов",
      "photoUrl": "",
      "userId": "07542786262242293608"
     },
     "user_tz": -180
    },
    "id": "Yh36cjUOH6Kt",
    "outputId": "371cfa62-f61e-4733-f286-75536a0f8ff6"
   },
   "outputs": [
    {
     "data": {
      "text/plain": [
       "array([2, 3])"
      ]
     },
     "execution_count": 17,
     "metadata": {
      "tags": []
     },
     "output_type": "execute_result"
    }
   ],
   "source": [
    "def vertical_means(A):\n",
    "    return A.mean(axis=1)\n",
    "\n",
    "A = np.array([[1,3],\n",
    "              [2,4]] )\n",
    "\n",
    "vertical_means(A).astype(int)"
   ]
  },
  {
   "cell_type": "markdown",
   "metadata": {
    "colab_type": "text",
    "id": "41Z2o-lfH6Kw"
   },
   "source": [
    "**Проблемы:**\n",
    "\n",
    "* Что такое вертикальная ось? \n",
    "* По какой оси необходимо суммировать?\n",
    "* Как не ошибиться?\n",
    "\n",
    "**Ответ:** Операции всегда производятся по той оси, которая **исчезнет** после применения операции."
   ]
  },
  {
   "cell_type": "markdown",
   "metadata": {
    "colab_type": "text",
    "id": "tp5LeOMgH6Kw"
   },
   "source": [
    "# Батчи\n",
    "Как вы, возможно, знаете, обучение нейронных сетей происходит последовательной подачей на вход нейронной сети объектов из обучающей выборки. Представим, например, что объекты --- это картинки в формате RGB.\n",
    "\n",
    "Чтобы нейронная сеть обучалась быстрее, объекты в неё подаются не по одному, а **батчами** из N объектов. Итак, на вход нейронной сети подаётся четырёхмерный (!!!) тензор формы (batch_size, num_channels, height, width). Наверное, вы уже убедились, что знать, где правильно ставить оси, просто необходимо.\n",
    "\n",
    "Благо, есть простое решение: можно просто НЕ ТРОГАТЬ нулевую ось."
   ]
  },
  {
   "cell_type": "markdown",
   "metadata": {
    "colab_type": "text",
    "id": "qGgzfArlH6Kx"
   },
   "source": [
    "### Стандартизация картинки\n",
    "\n",
    "На диске лежит файл image_batch.npy (здесь в ноутбуке мы просто генеируем батч с помощью функции np.random.randint). В нем лежит батч (массив) картинок в формате numpy. Каждая картинка задана как трехмерная матрица формата (num_channels, width, height). Нужно стандартизировать каналы одного пикселя, т. е. сделать так, чтобы для каждого пикселя среднее по всем каналам стало равно 0, а стандартное отклонение 1."
   ]
  },
  {
   "cell_type": "code",
   "execution_count": 0,
   "metadata": {
    "colab": {},
    "colab_type": "code",
    "id": "4c0Y6iX3H6Ky",
    "scrolled": true
   },
   "outputs": [],
   "source": [
    "def normalize_pictures(A):\n",
    "    \"\"\"\n",
    "    param A: np.array[batch_size, num_channels, width, height]\n",
    "    \"\"\"\n",
    "    m = np.mean(A, axis=(2,3))\n",
    "    sigma = np.std(A, axis=(2,3))\n",
    "    ret = (A-m[:,:, np.newaxis, np.newaxis])/sigma[:,:,np.newaxis, np.newaxis]\n",
    "    return ret"
   ]
  },
  {
   "cell_type": "code",
   "execution_count": 30,
   "metadata": {
    "colab": {
     "base_uri": "https://localhost:8080/",
     "height": 51
    },
    "colab_type": "code",
    "executionInfo": {
     "elapsed": 753,
     "status": "ok",
     "timestamp": 1583766590670,
     "user": {
      "displayName": "Валентин Олегович Шалимов",
      "photoUrl": "",
      "userId": "07542786262242293608"
     },
     "user_tz": -180
    },
    "id": "oP5_ZaTsH6K0",
    "outputId": "f59fb4d3-b519-44fb-ad7f-7649ffc8a997"
   },
   "outputs": [
    {
     "name": "stdout",
     "output_type": "stream",
     "text": [
      "-1.7319479184152443e-16\n",
      "1.0\n"
     ]
    }
   ],
   "source": [
    "batch = np.random.randint(0, 256, (1, 1, 10, 10))\n",
    "B = normalize_pictures(batch)\n",
    "print(B.mean())\n",
    "print(B.std())"
   ]
  },
  {
   "cell_type": "markdown",
   "metadata": {
    "colab_type": "text",
    "id": "MNabTpp6H6K3"
   },
   "source": [
    "### Стандартизация и транспонирование \n",
    "Задание то же самое, но нужно стандартизировать все пиксели внутри каждой картинки и сменить формат (batch_size, num_channels, x_coord, y_coord) на (batch_size, x_coord, y_coord, num_channels). Такой формат обычно удобнее для разных вычислений и вообще выглядит более естественным, но GPU более эффективно работают с первым. "
   ]
  },
  {
   "cell_type": "code",
   "execution_count": 0,
   "metadata": {
    "colab": {},
    "colab_type": "code",
    "id": "cWoIfswRH6K4"
   },
   "outputs": [],
   "source": [
    "def normalize_and_transpose_pictures(A):\n",
    "    \"\"\"\n",
    "    param A: np.array[batch_size, num_channels, width, height]\n",
    "    \"\"\"\n",
    "    <YOUR CODE>\n",
    "    \n",
    "    return <YOUR CODE>"
   ]
  },
  {
   "cell_type": "code",
   "execution_count": 0,
   "metadata": {
    "colab": {},
    "colab_type": "code",
    "id": "wol2gsN8H6K6"
   },
   "outputs": [],
   "source": [
    "res_transposed = normalize_and_transpose_pictures(batch) \n",
    "res_transposed.mean(axis=(1, 2))"
   ]
  },
  {
   "cell_type": "markdown",
   "metadata": {
    "colab_type": "text",
    "id": "OdK7znTDH6K8"
   },
   "source": [
    "### Сжатие фотографии\n",
    "Теперь мы хотим снизить качество батча фотографий --- разбить каждое изображение на квадратики 2*2 и усреднить внутри них значения по каждому каналу отдельно."
   ]
  },
  {
   "cell_type": "code",
   "execution_count": 0,
   "metadata": {
    "colab": {},
    "colab_type": "code",
    "id": "SX4boK4PH6K9"
   },
   "outputs": [],
   "source": [
    "def low_quality(batch_images):\n",
    "    \"\"\"\n",
    "    <Write parameter shapes>\n",
    "    \"\"\"\n",
    "    \n",
    "    <YOUR CODE>\n",
    "    \n",
    "    return <YOUR CODE>"
   ]
  },
  {
   "cell_type": "markdown",
   "metadata": {
    "colab_type": "text",
    "id": "Fg5-0-ikH6LA"
   },
   "source": [
    "Протестируем на реальной картинке"
   ]
  },
  {
   "cell_type": "code",
   "execution_count": 0,
   "metadata": {
    "colab": {},
    "colab_type": "code",
    "id": "uDFz_iH2H6LA"
   },
   "outputs": [],
   "source": [
    "import imageio\n",
    "import matplotlib.pyplot as plt\n",
    "\n",
    "img = imageio.imread('./rose.jpeg')\n",
    "print(img.shape)\n",
    "# в картинке сначала идут оси и только потом каналы + ее стороны не четные\n",
    "# Избавимся от нечетности\n",
    "img_padded = np.pad(img, [(0,1), (0, 0), (0, 0)], mode='constant')\n",
    "print(img_padded.shape)\n",
    "# Превратим картинку в батч\n",
    "batch = np.array([img_padded])\n",
    "\n",
    "# Применим наш код\n",
    "sum_of_pixels = batch[:, ::2, ::2, :] + batch[:, ::2, 1::2, :] + batch[:, 1::2, ::2, :] + batch[:, 1::2, 1::2, :]\n",
    "low_res_img = (sum_of_pixels / 4).astype(np.uint8)[0]\n",
    "\n",
    "plt.imshow(img)\n",
    "plt.show()\n",
    "plt.imshow(low_res_img)\n",
    "plt.show()"
   ]
  },
  {
   "cell_type": "markdown",
   "metadata": {
    "colab_type": "text",
    "id": "WKp-THw3H6LD"
   },
   "source": [
    "### Ридж\n",
    "Дана квадратная матрица $A$ и массив $b$ соответствующей длины. Прибавьте элементы массива $b$ к главной диагонали матрицы $A$"
   ]
  },
  {
   "cell_type": "code",
   "execution_count": 0,
   "metadata": {
    "colab": {},
    "colab_type": "code",
    "id": "pj-xWa3_H6LD"
   },
   "outputs": [],
   "source": [
    "def upgraded_plus(A, b):\n",
    "    <YOUR CODE>\n",
    "    \n",
    "    return <YOUR CODE>"
   ]
  }
 ],
 "metadata": {
  "colab": {
   "collapsed_sections": [],
   "name": "[seminar, prodv]3_Numpy_additional.ipynb",
   "provenance": []
  },
  "kernelspec": {
   "display_name": "Python 3",
   "language": "python",
   "name": "python3"
  },
  "language_info": {
   "codemirror_mode": {
    "name": "ipython",
    "version": 3
   },
   "file_extension": ".py",
   "mimetype": "text/x-python",
   "name": "python",
   "nbconvert_exporter": "python",
   "pygments_lexer": "ipython3",
   "version": "3.8.5"
  }
 },
 "nbformat": 4,
 "nbformat_minor": 1
}
