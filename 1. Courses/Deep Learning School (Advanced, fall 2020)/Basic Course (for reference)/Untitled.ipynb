{
 "cells": [
  {
   "cell_type": "markdown",
   "metadata": {},
   "source": [
    "Реализуйте функцию almost_double_factorial(n), вычисляющую произведение всех нечётных натуральных чисел, не превосходящих nnn.\n",
    "В качестве аргумента ей передаётся натуральное (ноль -- натуральное) число n⩽100n \\leqslant 100n⩽100.\n",
    "Возвращаемое значение - вычисленное произведение.\n",
    "\n",
    "Комментарий. В случае, если n = 0, требуется вернуть 1."
   ]
  },
  {
   "cell_type": "code",
   "execution_count": 12,
   "metadata": {},
   "outputs": [],
   "source": [
    "def almost_double_factorial(n):   \n",
    "    fact = 1\n",
    "    if n == 0:\n",
    "        return 1\n",
    "    for i in range(1, n + 1, 2):\n",
    "        fact = fact*i\n",
    "    return fact"
   ]
  },
  {
   "cell_type": "code",
   "execution_count": null,
   "metadata": {},
   "outputs": [],
   "source": [
    "Пусть у нас есть следующий список, в котором элементы -- tuple из строк:\n",
    "\n",
    "items = [('one', 'two'), ('three', 'four'), ('five', 'six'), ('string', 'a')]\n",
    "\n",
    "Мы хотим отсортировать этот список по последней букве второго элемента каждого tuple, т.е. получить такой список:\n",
    "\n",
    "sorted_items = [ ('string', 'a'), ('one', 'two'), ('three', 'four'), ('five', 'six'),]\n",
    "\n",
    "Напишите код вместо \"<YOUR CODE>\" в следующем выражении, чтобы получить верную сортировку.\n",
    "\n",
    "sorted_items = sorted(items, key=lambda x: <YOUR CODE>)\n",
    "\n",
    "https://docs.python.org/3/howto/sorting.html"
   ]
  },
  {
   "cell_type": "code",
   "execution_count": 14,
   "metadata": {},
   "outputs": [],
   "source": [
    "items = [('one', 'two'), ('three', 'four'), ('five', 'six'), ('string', 'a')]\n",
    "sorted_items = sorted(items, key=lambda x: x[1][-1])\n"
   ]
  },
  {
   "cell_type": "code",
   "execution_count": null,
   "metadata": {},
   "outputs": [],
   "source": [
    "Дан list x:\n",
    "\n",
    "x = [1, 2, 3, 4, 5]\n",
    "x[<YOUR CODE>] = [-1, -3, -5]\n",
    "\n",
    "x\n",
    "\n",
    "Заполните слайс вместо <YOUR CODE>, чтобы результатом стал следующий list:\n",
    "\n",
    "[-5, 2, -3, 4, -1]"
   ]
  },
  {
   "cell_type": "code",
   "execution_count": 23,
   "metadata": {},
   "outputs": [],
   "source": [
    "x = [1, 2, 3, 4, 5]\n",
    "x[::-2] = [-1, -3, -5]"
   ]
  },
  {
   "cell_type": "code",
   "execution_count": null,
   "metadata": {},
   "outputs": [],
   "source": [
    "Дан массив A[0,…,N−1]A[0,\\ldots,N-1]A[0,…,N−1]. Реализуйте функцию cumsum_and_erase(...), принимающую один обязательный аргумент AAA и один опциональный аргумент eraseerase erase, по умолчанию равный 1.\n",
    "\n",
    "Функция должна выполнять следующие действия: \n",
    "\n",
    "    сформировать массив B[0,…,N−1]B[0,\\ldots, N-1]B[0,…,N−1], где Bi=A0+…+AiB_i = A_0 + \\ldots + A_{i}Bi​=A0​+…+Ai​ --- массив частичных сумм массива AAA;\n",
    "    удалить из массива BBB все элементы, равные параметру eraseerase erase; получить массив C;\n",
    "    вернуть C в качестве ответа\n",
    "\n",
    "Постарайтесь сделать это за время O(N)O(N)O(N) без использования Numpy.\n",
    "\n",
    "Пример работы функции: \n",
    "\n",
    "A = [5, 1, 4, 5, 14] \n",
    "B = cumsum_and_erase(A, erase=10) \n",
    "assert B == [5, 6, 15, 29], \"Something is wrong! Please try again\""
   ]
  },
  {
   "cell_type": "code",
   "execution_count": 63,
   "metadata": {},
   "outputs": [],
   "source": [
    "def cumsum_and_erase(A, erase = 1):\n",
    "    B=[]\n",
    "    for i in range(0, len(A)):\n",
    "        summ = sum(A[0:i + 1])\n",
    "        if summ != erase:\n",
    "            B.append(summ)\n",
    "    return B"
   ]
  },
  {
   "cell_type": "code",
   "execution_count": 65,
   "metadata": {},
   "outputs": [
    {
     "name": "stdout",
     "output_type": "stream",
     "text": [
      "[5, 6, 10, 15]\n"
     ]
    }
   ],
   "source": [
    "A = [5, 1, 4, 5, 14] \n",
    "print(cumsum_and_erase(A, erase=29) )"
   ]
  },
  {
   "cell_type": "code",
   "execution_count": null,
   "metadata": {},
   "outputs": [],
   "source": [
    "Обработка текста\n",
    "\n",
    "\n",
    "Дан список текстов, слова в которых разделены пробелами (можно считать, что знаков препинания нет). Часть слов является \"мусорными\": в них присутствуют цифры и спецсимволы. Отфильтруйте такие слова из каждого текста.\n",
    "\n",
    "Используйте функции str.split, str.isalpha, str.join, а также list comprehensions.\n",
    "\n",
    "Пример ввода:\n",
    "\n",
    "['1 thousand devils', 'My name is 9Pasha', 'Room #125 costs $100', '888']\n",
    "\n",
    "Пример вывода: \n",
    "\n",
    "['thousand devils', 'My name is', 'Room costs', '']"
   ]
  },
  {
   "cell_type": "code",
   "execution_count": 123,
   "metadata": {},
   "outputs": [
    {
     "ename": "SyntaxError",
     "evalue": "'return' outside function (<ipython-input-123-51f909134178>, line 14)",
     "output_type": "error",
     "traceback": [
      "\u001b[0;36m  File \u001b[0;32m\"<ipython-input-123-51f909134178>\"\u001b[0;36m, line \u001b[0;32m14\u001b[0m\n\u001b[0;31m    return final\u001b[0m\n\u001b[0m    ^\u001b[0m\n\u001b[0;31mSyntaxError\u001b[0m\u001b[0;31m:\u001b[0m 'return' outside function\n"
     ]
    }
   ],
   "source": [
    "stringa = ['asdfkl%^ sdfk 129&&sd wej sdl 63', 'sdjh 28 jejdj28 381 sdkj euqi**', 'sdq sdf qw 11', 'qwesfd', '11']\n",
    "\n",
    "for element in stringa:\n",
    "    words = []\n",
    "    final = []\n",
    "    splitted = element.split()\n",
    "    for i in splitted:\n",
    "        letters = []\n",
    "        for letter in i:\n",
    "            if letter.isalpha(): letters.append(letter) \n",
    "        words.append(\"\".join(letters))\n",
    "        words = list(filter(None, words))\n",
    "    final.append(\" \".join(words))\n",
    "    return final\n",
    "\n",
    "            \n",
    "        "
   ]
  },
  {
   "cell_type": "code",
   "execution_count": 132,
   "metadata": {},
   "outputs": [],
   "source": [
    "def process(sentences):\n",
    "    result = []\n",
    "    for element in sentences:             \n",
    "        splitted = element.split()\n",
    "        words = [x for x in splitted if x.isalpha()]   \n",
    "        result.append(\" \".join(words))\n",
    "    return result"
   ]
  },
  {
   "cell_type": "code",
   "execution_count": 133,
   "metadata": {},
   "outputs": [
    {
     "data": {
      "text/plain": [
       "['sdfk wej sdl', 'sdjh sdkj', 'sdq sdf qw', 'qwesfd', '']"
      ]
     },
     "execution_count": 133,
     "metadata": {},
     "output_type": "execute_result"
    }
   ],
   "source": [
    "process(stringa)"
   ]
  },
  {
   "cell_type": "code",
   "execution_count": null,
   "metadata": {},
   "outputs": [],
   "source": [
    "def process(sentences):\n",
    "    return [' '.join(word for word in sentence.split() if word.isalpha()) \n",
    "            for sentence in sentences]"
   ]
  },
  {
   "cell_type": "code",
   "execution_count": null,
   "metadata": {},
   "outputs": [],
   "source": []
  }
 ],
 "metadata": {
  "kernelspec": {
   "display_name": "Python 3",
   "language": "python",
   "name": "python3"
  },
  "language_info": {
   "codemirror_mode": {
    "name": "ipython",
    "version": 3
   },
   "file_extension": ".py",
   "mimetype": "text/x-python",
   "name": "python",
   "nbconvert_exporter": "python",
   "pygments_lexer": "ipython3",
   "version": "3.8.2"
  }
 },
 "nbformat": 4,
 "nbformat_minor": 4
}
