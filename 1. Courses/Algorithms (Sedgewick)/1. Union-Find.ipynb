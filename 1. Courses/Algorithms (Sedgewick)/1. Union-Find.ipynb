{
 "cells": [
  {
   "cell_type": "markdown",
   "metadata": {},
   "source": [
    "#### Quick-find (eager approach)"
   ]
  },
  {
   "cell_type": "code",
   "execution_count": 96,
   "metadata": {},
   "outputs": [],
   "source": [
    "class QuickFind():\n",
    "    \n",
    "    def __init__(self):\n",
    "        self.N = 0\n",
    "        self.nodes = []\n",
    "    \n",
    "    def quickFind(self, N):\n",
    "        self.nodes = []\n",
    "        self.N = N\n",
    "        for i in range(self.N):\n",
    "            self.nodes.append(i)\n",
    "        print(self.nodes)\n",
    "        \n",
    "    def union(self, p, q):\n",
    "        pNode = self.nodes[p]\n",
    "        qNode = self.nodes[q]\n",
    "        for i in range(len(self.nodes)):\n",
    "            if self.nodes[i] == qNode:\n",
    "                self.nodes[i] = pNode\n",
    "        print('Union')\n",
    "        \n",
    "    def connected(self, p, q):\n",
    "        print(self.nodes[p] == self.nodes[q])"
   ]
  },
  {
   "cell_type": "markdown",
   "metadata": {},
   "source": [
    "initialize: O(N)  \n",
    "find (connected): O(1)  \n",
    "union: O(N)  \n",
    "complexity: O(N^2)"
   ]
  },
  {
   "cell_type": "code",
   "execution_count": 126,
   "metadata": {},
   "outputs": [
    {
     "name": "stdout",
     "output_type": "stream",
     "text": [
      "CPU times: user 2 µs, sys: 0 ns, total: 2 µs\n",
      "Wall time: 4.53 µs\n",
      "[0, 1, 2, 3, 4]\n",
      "False\n",
      "Union\n",
      "True\n"
     ]
    }
   ],
   "source": [
    "%time\n",
    "cl = QuickFind()  \n",
    "cl.quickFind(5)\n",
    "cl.connected(2,4)\n",
    "cl.union(2,4)\n",
    "cl.connected(2,4)"
   ]
  },
  {
   "cell_type": "markdown",
   "metadata": {},
   "source": [
    "#### Quick-union (lazy approach)"
   ]
  },
  {
   "cell_type": "code",
   "execution_count": 115,
   "metadata": {},
   "outputs": [],
   "source": [
    "class QuickUnion():\n",
    "    \n",
    "    def __init__(self):\n",
    "        self.N = 0\n",
    "        self.nodes = []\n",
    "    \n",
    "    def quickUnion(self, N):\n",
    "        for i in range(N):\n",
    "            self.nodes.append(i)\n",
    "        print(self.nodes)\n",
    "        \n",
    "    def root(self, x):\n",
    "        while x != self.nodes[x]:\n",
    "            x = self.nodes[x]\n",
    "        print('Root: ', x)\n",
    "        return x\n",
    "    \n",
    "    def union(self, p, q):\n",
    "        print('Union:')\n",
    "        i = self.root(p)\n",
    "        j = self.root(q)\n",
    "        self.nodes[i] = j\n",
    "        \n",
    "        \n",
    "    def connected(self, p, q):\n",
    "        print('Connected:')\n",
    "        print(self.root(p) == self.root(q))"
   ]
  },
  {
   "cell_type": "code",
   "execution_count": 125,
   "metadata": {},
   "outputs": [
    {
     "name": "stdout",
     "output_type": "stream",
     "text": [
      "CPU times: user 3 µs, sys: 0 ns, total: 3 µs\n",
      "Wall time: 5.48 µs\n",
      "[0, 1, 2, 3, 4]\n",
      "Connected:\n",
      "Root:  2\n",
      "Root:  4\n",
      "False\n",
      "Union:\n",
      "Root:  2\n",
      "Root:  4\n",
      "Connected:\n",
      "Root:  4\n",
      "Root:  4\n",
      "True\n"
     ]
    }
   ],
   "source": [
    "%time\n",
    "cl = QuickUnion()  \n",
    "cl.quickUnion(5)\n",
    "cl.connected(2,4)\n",
    "cl.union(2,4)\n",
    "cl.connected(2,4)"
   ]
  },
  {
   "cell_type": "markdown",
   "metadata": {},
   "source": [
    "initialize: O(N)  \n",
    "find (connected): O(N)  \n",
    "union: O(N+)  \n",
    "complexity: O(N)"
   ]
  },
  {
   "cell_type": "markdown",
   "metadata": {},
   "source": [
    "Quick-find defect.  \n",
    "・ Union too expensive (N array accesses).  \n",
    "・ Trees are flat, but too expensive to keep them flat.  \n",
    "  \n",
    "  Quick-union defect.  \n",
    "・ Trees can get tall.  \n",
    "・ Find too expensive (could be N array accesses)."
   ]
  },
  {
   "cell_type": "markdown",
   "metadata": {},
   "source": [
    "#### Weighted quick-union"
   ]
  },
  {
   "cell_type": "code",
   "execution_count": 122,
   "metadata": {},
   "outputs": [],
   "source": [
    "class WeightedQuickUnion():\n",
    "    \n",
    "    def __init__(self):\n",
    "        self.N = 0\n",
    "        self.nodes = []\n",
    "        self.sz = []\n",
    "    \n",
    "    def quickUnion(self, N):\n",
    "        for i in range(N):\n",
    "            self.nodes.append(i)\n",
    "            self.sz.append(1)            \n",
    "        print(self.nodes)\n",
    "        \n",
    "    def root(self, x):\n",
    "        while x != self.nodes[x]:\n",
    "            x = self.nodes[x]\n",
    "        print('Root: ', x)\n",
    "        return x\n",
    "    \n",
    "    def union(self, p, q):\n",
    "        print('Union:')\n",
    "        i = self.root(p)\n",
    "        j = self.root(q)\n",
    "        if (i == j): return\n",
    "        if (self.sz[i] < self.sz[j]):\n",
    "            self.nodes[i] = self.nodes[j]\n",
    "            sz[j] += sz[i]\n",
    "        else:\n",
    "            self.nodes[j] = self.nodes[i]\n",
    "            self.sz[i] += self.sz[j]        \n",
    "        \n",
    "    def connected(self, p, q):\n",
    "        print('Connected:')\n",
    "        print(self.root(p) == self.root(q))"
   ]
  },
  {
   "cell_type": "code",
   "execution_count": 124,
   "metadata": {},
   "outputs": [
    {
     "name": "stdout",
     "output_type": "stream",
     "text": [
      "CPU times: user 2 µs, sys: 0 ns, total: 2 µs\n",
      "Wall time: 5.01 µs\n",
      "[0, 1, 2, 3, 4]\n",
      "Connected:\n",
      "Root:  2\n",
      "Root:  4\n",
      "False\n",
      "Union:\n",
      "Root:  2\n",
      "Root:  4\n",
      "Connected:\n",
      "Root:  2\n",
      "Root:  2\n",
      "True\n"
     ]
    }
   ],
   "source": [
    "%time\n",
    "cl = WeightedQuickUnion()  \n",
    "cl.quickUnion(5)\n",
    "cl.connected(2,4)\n",
    "cl.union(2,4)\n",
    "cl.connected(2,4)"
   ]
  },
  {
   "cell_type": "markdown",
   "metadata": {},
   "source": [
    "initialize: O(N)  \n",
    "find (connected): O(lg(N))  \n",
    "union: O(lg(N+))  \n",
    "complexity: O(lg(N))"
   ]
  },
  {
   "cell_type": "markdown",
   "metadata": {},
   "source": [
    "#### Path compression"
   ]
  },
  {
   "cell_type": "code",
   "execution_count": 128,
   "metadata": {},
   "outputs": [],
   "source": [
    "def root(self, x):\n",
    "        while x != self.nodes[x]:\n",
    "            self.nodes[x] = self.nodes[self.nodes[x]] ## String added\n",
    "            x = self.nodes[x]            \n",
    "        print('Root: ', x)\n",
    "        return x"
   ]
  },
  {
   "cell_type": "markdown",
   "metadata": {},
   "source": [
    "#### Weighted quick-union with pass compression"
   ]
  },
  {
   "cell_type": "code",
   "execution_count": 129,
   "metadata": {},
   "outputs": [],
   "source": [
    "class WeightedQuickUnionPC():\n",
    "    \n",
    "    def __init__(self):\n",
    "        self.N = 0\n",
    "        self.nodes = []\n",
    "        self.sz = []\n",
    "    \n",
    "    def quickUnion(self, N):\n",
    "        for i in range(N):\n",
    "            self.nodes.append(i)\n",
    "            self.sz.append(1)            \n",
    "        print(self.nodes)\n",
    "        \n",
    "    def root(self, x):\n",
    "        while x != self.nodes[x]:\n",
    "            self.nodes[x] = self.nodes[self.nodes[x]] ## String added\n",
    "            x = self.nodes[x]\n",
    "        print('Root: ', x)\n",
    "        return x\n",
    "    \n",
    "    def union(self, p, q):\n",
    "        print('Union:')\n",
    "        i = self.root(p)\n",
    "        j = self.root(q)\n",
    "        if (i == j): return\n",
    "        if (self.sz[i] < self.sz[j]):\n",
    "            self.nodes[i] = self.nodes[j]\n",
    "            sz[j] += sz[i]\n",
    "        else:\n",
    "            self.nodes[j] = self.nodes[i]\n",
    "            self.sz[i] += self.sz[j]        \n",
    "        \n",
    "    def connected(self, p, q):\n",
    "        print('Connected:')\n",
    "        print(self.root(p) == self.root(q))"
   ]
  },
  {
   "cell_type": "code",
   "execution_count": 130,
   "metadata": {},
   "outputs": [
    {
     "name": "stdout",
     "output_type": "stream",
     "text": [
      "CPU times: user 2 µs, sys: 0 ns, total: 2 µs\n",
      "Wall time: 5.01 µs\n",
      "[0, 1, 2, 3, 4]\n",
      "Connected:\n",
      "Root:  2\n",
      "Root:  4\n",
      "False\n",
      "Union:\n",
      "Root:  2\n",
      "Root:  4\n",
      "Connected:\n",
      "Root:  2\n",
      "Root:  2\n",
      "True\n"
     ]
    }
   ],
   "source": [
    "%time\n",
    "cl = WeightedQuickUnionPC()  \n",
    "cl.quickUnion(5)\n",
    "cl.connected(2,4)\n",
    "cl.union(2,4)\n",
    "cl.connected(2,4)"
   ]
  },
  {
   "cell_type": "markdown",
   "metadata": {},
   "source": [
    "<img src=\"UF-worst-case.png\">"
   ]
  }
 ],
 "metadata": {
  "kernelspec": {
   "display_name": "Python 3",
   "language": "python",
   "name": "python3"
  },
  "language_info": {
   "codemirror_mode": {
    "name": "ipython",
    "version": 3
   },
   "file_extension": ".py",
   "mimetype": "text/x-python",
   "name": "python",
   "nbconvert_exporter": "python",
   "pygments_lexer": "ipython3",
   "version": "3.8.5"
  }
 },
 "nbformat": 4,
 "nbformat_minor": 4
}
