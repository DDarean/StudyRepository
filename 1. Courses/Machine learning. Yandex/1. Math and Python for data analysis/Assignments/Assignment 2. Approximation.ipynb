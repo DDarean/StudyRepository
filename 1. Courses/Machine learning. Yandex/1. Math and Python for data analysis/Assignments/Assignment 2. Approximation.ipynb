{
 "cells": [
  {
   "cell_type": "code",
   "execution_count": 2,
   "metadata": {},
   "outputs": [],
   "source": [
    "import math"
   ]
  },
  {
   "cell_type": "code",
   "execution_count": 3,
   "metadata": {},
   "outputs": [
    {
     "data": {
      "text/plain": [
       "0.0"
      ]
     },
     "execution_count": 3,
     "metadata": {},
     "output_type": "execute_result"
    }
   ],
   "source": [
    "math.sin(1/2)"
   ]
  },
  {
   "cell_type": "code",
   "execution_count": 4,
   "metadata": {},
   "outputs": [
    {
     "data": {
      "text/plain": [
       "2.718281828459045"
      ]
     },
     "execution_count": 4,
     "metadata": {},
     "output_type": "execute_result"
    }
   ],
   "source": [
    "math.exp(1)"
   ]
  },
  {
   "cell_type": "code",
   "execution_count": 5,
   "metadata": {},
   "outputs": [
    {
     "name": "stdout",
     "output_type": "stream",
     "text": [
      "[[ 1  1]\n",
      " [ 1 15]]\n",
      "[[1.83939721]\n",
      " [0.38528127]]\n"
     ]
    },
    {
     "data": {
      "text/plain": [
       "array([[ 1.94326263],\n",
       "       [-0.10386542]])"
      ]
     },
     "execution_count": 5,
     "metadata": {},
     "output_type": "execute_result"
    }
   ],
   "source": [
    "%matplotlib inline\n",
    "import scipy as sp\n",
    "from scipy import linalg\n",
    "import numpy as np\n",
    "from matplotlib import pylab as plt\n",
    "import matplotlib.pyplot as plt\n",
    "from scipy import interpolate\n",
    "\n",
    "\n",
    "\n",
    "x1=1\n",
    "x2=15\n",
    "\n",
    "f1=math.sin(x1/5)*math.exp(x1/10)+5*math.exp(-x1/2)\n",
    "f2=math.sin(x2/5)*math.exp(x2/10)+5*math.exp(-x2/2)\n",
    "\n",
    "a = np.array([[1,1],[1,15]])\n",
    "b = np.array([[f1],[f2]])\n",
    "\n",
    "print (a)\n",
    "print (b)\n",
    "\n",
    "sp.linalg.solve(a,b)\n",
    "\n",
    "\n",
    "\n"
   ]
  },
  {
   "cell_type": "code",
   "execution_count": 6,
   "metadata": {},
   "outputs": [
    {
     "name": "stdout",
     "output_type": "stream",
     "text": [
      "[[  1   1   1]\n",
      " [  1   8  64]\n",
      " [  1  15 225]]\n",
      "[[1.83939721]\n",
      " [0.93304918]\n",
      " [0.38528127]]\n"
     ]
    },
    {
     "data": {
      "text/plain": [
       "array([[ 1.99814734],\n",
       "       [-0.16240912],\n",
       "       [ 0.00365898]])"
      ]
     },
     "execution_count": 6,
     "metadata": {},
     "output_type": "execute_result"
    }
   ],
   "source": [
    "x1= 1\n",
    "x2 = 8\n",
    "x3= 15\n",
    "\n",
    "\n",
    "f1=math.sin(x1/5)*math.exp(x1/10)+5*math.exp(-x1/2)\n",
    "f2=math.sin(x2/5)*math.exp(x2/10)+5*math.exp(-x2/2)\n",
    "f3=math.sin(x3/5)*math.exp(x3/10)+5*math.exp(-x3/2)\n",
    "\n",
    "a = np.array([[1,1,1],[1,8,64],[1,15,225]])\n",
    "b = np.array([[f1],[f2],[f3]])\n",
    "\n",
    "print (a)\n",
    "print (b)\n",
    "\n",
    "sp.linalg.solve(a,b)"
   ]
  },
  {
   "cell_type": "code",
   "execution_count": 7,
   "metadata": {},
   "outputs": [
    {
     "name": "stdout",
     "output_type": "stream",
     "text": [
      "[[   1    1    1    1]\n",
      " [   1    4   16   64]\n",
      " [   1   10  100 1000]\n",
      " [   1   15  225 3375]]\n",
      "[[3.25221687]\n",
      " [1.74684595]\n",
      " [2.50541641]\n",
      " [0.63522142]]\n"
     ]
    },
    {
     "data": {
      "text/plain": [
       "array([[ 4.36264154],\n",
       "       [-1.29552587],\n",
       "       [ 0.19333685],\n",
       "       [-0.00823565]])"
      ]
     },
     "execution_count": 7,
     "metadata": {},
     "output_type": "execute_result"
    }
   ],
   "source": [
    "x1= 1\n",
    "x2 = 4\n",
    "x3= 10\n",
    "x4 = 15\n",
    "\n",
    "\n",
    "f1=math.sin(x1/5.)*math.exp(x1/10.)+5*math.exp(-x1/2.)\n",
    "f2=math.sin(x2/5.)*math.exp(x2/10.)+5*math.exp(-x2/2.)\n",
    "f3=math.sin(x3/5.)*math.exp(x3/10.)+5*math.exp(-x3/2.)\n",
    "f4=math.sin(x4/5.)*math.exp(x4/10.)+5*math.exp(-x4/2.)\n",
    "\n",
    "a = np.array([[1,1,1,1],[1,4,16,64],[1,10,100,1000],[1,15,225,3375]])\n",
    "b = np.array([[f1],[f2],[f3],[f4]])\n",
    "\n",
    "print (a)\n",
    "print (b)\n",
    "\n",
    "sp.linalg.solve(a,b)"
   ]
  },
  {
   "cell_type": "code",
   "execution_count": 8,
   "metadata": {},
   "outputs": [
    {
     "name": "stdout",
     "output_type": "stream",
     "text": [
      "[5.0, 3.252216865271419, 2.3150338432311584, 1.8778384165859365, 1.7468459495903677, 1.7977761044492575, 1.9472212830789883, 2.135438978951904, 2.316170159053224, 2.450823645392045, 2.5054164070002463, 2.4492912840300085, 2.25501049731666, 1.8990446617425354, 1.3630033452333579, 0.6352214195786656]\n"
     ]
    },
    {
     "data": {
      "image/png": "[encoded data removed]",
      "text/plain": [
       "<Figure size 432x288 with 1 Axes>"
      ]
     },
     "metadata": {},
     "output_type": "display_data"
    }
   ],
   "source": [
    "def func(x):\n",
    "    return [(math.sin(i/5.)*math.exp(i/10.)+5*math.exp(-i/2.)) for i in x]\n",
    "\n",
    "x = [i for i in range (0, 16)]\n",
    "y = func(x)\n",
    "print (y)\n",
    "\n",
    "plt.plot(x,y)\n",
    "plt.show()\n"
   ]
  },
  {
   "cell_type": "code",
   "execution_count": 9,
   "metadata": {},
   "outputs": [
    {
     "data": {
      "image/png": "[encoded data removed]",
      "text/plain": [
       "<Figure size 432x288 with 1 Axes>"
      ]
     },
     "metadata": {},
     "output_type": "display_data"
    }
   ],
   "source": [
    "def func(x):\n",
    "    return [4.36+i*(-1.29)+(i**2)*0.19-(i**3)*0.008 for i in x]\n",
    "\n",
    "x = [i for i in range (0, 16)]\n",
    "y = func(x)\n",
    "\n",
    "plt.plot(x,y)\n",
    "plt.show()\n"
   ]
  }
 ],
 "metadata": {
  "kernelspec": {
   "display_name": "Python 2",
   "language": "python",
   "name": "python2"
  },
  "language_info": {
   "codemirror_mode": {
    "name": "ipython",
    "version": 3
   },
   "file_extension": ".py",
   "mimetype": "text/x-python",
   "name": "python",
   "nbconvert_exporter": "python",
   "pygments_lexer": "ipython3",
   "version": "3.8.5"
  }
 },
 "nbformat": 4,
 "nbformat_minor": 2
}
