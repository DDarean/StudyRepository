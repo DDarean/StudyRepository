{
 "cells": [
  {
   "cell_type": "code",
   "execution_count": 1,
   "metadata": {},
   "outputs": [],
   "source": [
    "import re"
   ]
  },
  {
   "cell_type": "code",
   "execution_count": 14,
   "metadata": {},
   "outputs": [
    {
     "name": "stdout",
     "output_type": "stream",
     "text": [
      "<type 'str'>\n",
      "(<type 'int'>, <type 'int'>)\n"
     ]
    }
   ],
   "source": [
    "file1 = open('sentences.txt', 'r')\n",
    "content = file1.read()\n",
    "print type(content)\n",
    "\n",
    "lineCount = len(re.split(\"\\n\",content))\n",
    "\n",
    "words = re.split('[^a-z]',content.lower())\n",
    "words = set(words)\n",
    "\n",
    "clearList =[value for value in words if value]\n",
    "\n",
    "keys = range(len(words)-1)\n",
    "\n",
    "for value in clearList:\n",
    "    wordsDict = dict(zip(keys,clearList))\n",
    "    \n",
    "d = len(wordsDict)\n",
    "n = lineCount\n",
    "\n",
    "print(type(d),type(n))\n"
   ]
  },
  {
   "cell_type": "code",
   "execution_count": 3,
   "metadata": {},
   "outputs": [],
   "source": [
    "import numpy as np\n",
    "import scipy as sp\n",
    "#np.set_printoptions(threshold='nan')"
   ]
  },
  {
   "cell_type": "code",
   "execution_count": 20,
   "metadata": {},
   "outputs": [
    {
     "name": "stdout",
     "output_type": "stream",
     "text": [
      "[0, 1, 2, 3, 4, 5, 6, 7, 8, 9, 10, 11, 12, 13, 14, 15, 16, 17, 18, 19, 20, 21]\n",
      "0.0\n",
      "0.9527544408738466\n",
      "0.8644738145642124\n",
      "0.8951715163278082\n",
      "0.7770887149698589\n",
      "0.9402385695332803\n",
      "0.7327387580875756\n",
      "0.9258750683338899\n",
      "0.8842724875284311\n",
      "0.9055088817476932\n",
      "0.8328165362273942\n",
      "0.8804771390665607\n",
      "0.8396432548525454\n",
      "0.8703592552895671\n",
      "0.8740118423302576\n",
      "0.9442721787424647\n",
      "0.8406361854220809\n",
      "0.956644501523794\n",
      "0.9442721787424647\n",
      "0.8885443574849294\n",
      "0.8427572744917122\n",
      "0.8250364469440588\n"
     ]
    }
   ],
   "source": [
    "from collections import Counter\n",
    "from scipy.spatial import distance\n",
    "\n",
    "file1 = open('sentences.txt', 'r')\n",
    "content = file1.read()\n",
    "s = (n,d)\n",
    "matrix = np.zeros(s)\n",
    "#print(matrix)\n",
    "\n",
    "sentences = (re.split(\"\\n\",content.lower()))\n",
    "print range(len(sentences))\n",
    "for i in range(len(sentences)):\n",
    " #   print sentences[i]\n",
    " #   print type(sentences[i])\n",
    " #   print (re.split('[^a-z]', sentences[i]))\n",
    "    for j in range(d):\n",
    "        wordd = wordsDict.get(j)\n",
    "       # print wordd\n",
    "        x = re.split('[^a-z]',sentences[i]).count(wordd)\n",
    "       # print x\n",
    "        matrix[i][j] = x\n",
    "#print matrix\n",
    "\n",
    "#print matrix [0]\n",
    "\n",
    "#print type(matrix[1])\n",
    "a = matrix[0]\n",
    "\n",
    "\n",
    "for i in range(len(sentences)):\n",
    "    b = matrix[i]\n",
    "    print distance.cosine([a],[b])\n",
    "    \n",
    "\n",
    "\n",
    "    "
   ]
  },
  {
   "cell_type": "code",
   "execution_count": null,
   "metadata": {},
   "outputs": [],
   "source": []
  }
 ],
 "metadata": {
  "kernelspec": {
   "display_name": "Python 2",
   "language": "python",
   "name": "python2"
  },
  "language_info": {
   "codemirror_mode": {
    "name": "ipython",
    "version": 3
   },
   "file_extension": ".py",
   "mimetype": "text/x-python",
   "name": "python",
   "nbconvert_exporter": "python",
   "pygments_lexer": "ipython3",
   "version": "3.8.5"
  }
 },
 "nbformat": 4,
 "nbformat_minor": 2
}
