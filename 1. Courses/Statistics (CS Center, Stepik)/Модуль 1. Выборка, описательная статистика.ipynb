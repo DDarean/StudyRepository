{
 "cells": [
  {
   "cell_type": "markdown",
   "metadata": {},
   "source": [
    "### Модуль 1. Выборка. Описательная статистика"
   ]
  },
  {
   "cell_type": "markdown",
   "metadata": {},
   "source": [
    "##### Задача 1"
   ]
  },
  {
   "cell_type": "markdown",
   "metadata": {},
   "source": [
    "По предложенной выборке найдите значения первой, третьей и седьмой порядковых статистик."
   ]
  },
  {
   "cell_type": "code",
   "execution_count": 1,
   "metadata": {},
   "outputs": [
    {
     "name": "stdout",
     "output_type": "stream",
     "text": [
      "0.32\n",
      "2.35\n",
      "5.78\n"
     ]
    }
   ],
   "source": [
    "listec = [3.33, 6.66, 4.06, 3.54, 0.32, 5.78, 1.42, 2.35]\n",
    "for i in (0,2,6):\n",
    "    print(sorted(listec)[i])"
   ]
  },
  {
   "cell_type": "markdown",
   "metadata": {},
   "source": [
    "##### Задача 2"
   ]
  },
  {
   "cell_type": "markdown",
   "metadata": {},
   "source": [
    "По предложенной выборке постройте гистограмму, используя интервалы\n",
    "[15, 15.75], (15.75, 16.5], (16.5, 17.25], (17.25, 18.0], (18.0, 18.75], (18.75, 19.5], (19.5, 20.25], \n",
    "(20.25, 21.0]\n",
    "Найдите относительные частоты попадания элементов выборки в данные интервалы."
   ]
  },
  {
   "cell_type": "code",
   "execution_count": 2,
   "metadata": {},
   "outputs": [
    {
     "name": "stdout",
     "output_type": "stream",
     "text": [
      "[0.025 0.    0.125 0.2   0.35  0.275 0.025 0.   ]\n"
     ]
    },
    {
     "data": {
      "image/png": "[encoded data removed]",
      "text/plain": [
       "<Figure size 432x288 with 1 Axes>"
      ]
     },
     "metadata": {
      "needs_background": "light"
     },
     "output_type": "display_data"
    }
   ],
   "source": [
    "from matplotlib import pyplot as plt\n",
    "listec = [17.45, 17.18, 18.97, 19.16, 18.83, 18.63, 17.48, 18.03, \\\n",
    "          18.73, 18.04, 16.59, 17.17, 18.88, 19.32, 19.13, 18.72, \\\n",
    "          18.19, 15.32, 17.66, 18.83, 19.45, 17.41, 18.53, 19.2, \\\n",
    "          16.86, 16.83, 17.96, 18.46, 17.81, 18.3, 18.03, 19.23, \\\n",
    "          17.99, 18.68, 18.63, 17.44, 18.38, 19.63, 19.38, 18.35]\n",
    "ranges = [15, 15.75, 16.5, 17.25, 18.0, 18.75, 19.5, 20.25, 21] \n",
    "a = plt.hist(listec, bins=ranges, edgecolor='black', linewidth=1.2)\n",
    "b = a[0] / len(listec)\n",
    "plt.hist(b, bins=ranges)\n",
    "print(b)"
   ]
  },
  {
   "cell_type": "markdown",
   "metadata": {},
   "source": [
    "##### Задача 3"
   ]
  },
  {
   "cell_type": "markdown",
   "metadata": {},
   "source": [
    "Какая будет средняя дневная температура июля в Санкт-Петербурге в этом году? Давайте попробуем ответить на этот вопрос на основе исторических данных.  Ниже приводится средняя дневная температура июля в Санкт-Петербурге за 2002-2015 года:\n",
    "\n",
    "23, 24, 21, 23, 22, 21, 20, 21, 28, 25, 22, 22, 25, 21 "
   ]
  },
  {
   "cell_type": "code",
   "execution_count": 3,
   "metadata": {},
   "outputs": [
    {
     "name": "stdout",
     "output_type": "stream",
     "text": [
      "Выборочное среднее: 22.714285714285715\n",
      "Выборочная дисперсия: 4.346938775510203\n",
      "Выборочная медиана: 22.0\n",
      "Первый квартиль: 21.0\n",
      "Третий квартиль: 24\n"
     ]
    }
   ],
   "source": [
    "import numpy as np\n",
    "listec = [23, 24, 21, 23, 22, 21, 20, 21, 28, 25, 22, 22, 25, 21]\n",
    "print(\"Выборочное среднее:\", np.mean(listec))\n",
    "print(\"Выборочная дисперсия:\", np.var(listec))\n",
    "print(\"Выборочная медиана:\", np.median(listec))\n",
    "print(\"Первый квартиль:\", np.quantile(listec, 0.25))\n",
    "print(\"Третий квартиль:\", np.quantile(listec, 0.75, interpolation = 'nearest'))"
   ]
  },
  {
   "cell_type": "markdown",
   "metadata": {},
   "source": [
    "##### Задача 4"
   ]
  },
  {
   "cell_type": "markdown",
   "metadata": {},
   "source": [
    "Найдите **выборочный коэффициент корреляции** между ростом и весом по данным  измерений роста и веса 10 мужчин. (Единицы измерений рост - см, вес - кг)  \n",
    "\n",
    "(170, 66), (182, 74),  (183, 77),  (180, 72), (175, 67), (181, 77), (187, 76), (181, 77), (178, 72), (187, 76)\n",
    "\n",
    "<img src=\"data/Corr_coef.png\">\n"
   ]
  },
  {
   "cell_type": "code",
   "execution_count": 4,
   "metadata": {},
   "outputs": [
    {
     "name": "stdout",
     "output_type": "stream",
     "text": [
      "0.8588990018515538 \n",
      "\n",
      "0.8588990018516223\n"
     ]
    }
   ],
   "source": [
    "import numpy as np\n",
    "\n",
    "height = [170, 182, 183, 180, 175, 181, 187, 181, 178, 187]\n",
    "weight = [66, 74, 77, 72, 67, 77, 76, 77, 72, 76]\n",
    "h_mean = np.mean(height)\n",
    "w_mean = np.mean(weight)\n",
    "h_var = np.var(height, ddof = 0)\n",
    "w_var = np.var(weight, ddof = 0)\n",
    "summ = 0\n",
    "n = len(height)\n",
    "\n",
    "# По формуле\n",
    "summ = sum([x*y for x,y in zip(height,weight)])\n",
    "corr = (summ/n - h_mean*w_mean) / (h_var*w_var)**0.5\n",
    "print(corr, '\\n')\n",
    "\n",
    "# Numpy\n",
    "print(np.corrcoef(height, weight)[0,1])"
   ]
  },
  {
   "cell_type": "markdown",
   "metadata": {},
   "source": [
    "### Итоговое задание"
   ]
  },
  {
   "cell_type": "code",
   "execution_count": 5,
   "metadata": {},
   "outputs": [],
   "source": [
    "import pandas as pd\n",
    "with open('data/13_6.txt') as file:\n",
    "        a = file.readlines()\n",
    "for i in range(len(a)):\n",
    "    a[i] = a[i].split('\\t')\n",
    "df = pd.DataFrame(a)\n",
    "df.columns = ['Type', 'Year, month', 'Qty6', 'Qty13', 'Shop']\n",
    "df['Qty6'] = df['Qty6'].astype('int')\n",
    "df['Qty13'] = df['Qty13'].astype('int')"
   ]
  },
  {
   "cell_type": "markdown",
   "metadata": {},
   "source": [
    "Найдите\n",
    "    выборочное среднее,\n",
    "    выборочную медиану и\n",
    "    выборочную дисперсию 13 числа"
   ]
  },
  {
   "cell_type": "code",
   "execution_count": 6,
   "metadata": {},
   "outputs": [
    {
     "name": "stdout",
     "output_type": "stream",
     "text": [
      "Выборочное среднее: 5017.0\n",
      "Выборочная медиана: 4736.0\n",
      "Выборочная дисперсия: 1345096.088888889\n"
     ]
    }
   ],
   "source": [
    "print(\"Выборочное среднее:\", df['Qty13'].mean())\n",
    "print(\"Выборочная медиана:\", df['Qty13'].median())\n",
    "print(\"Выборочная дисперсия:\", df['Qty13'].var(ddof=0))"
   ]
  },
  {
   "cell_type": "markdown",
   "metadata": {},
   "source": [
    "Постройте выборку из разницы числа людей, приходящих в магазин  13го и 6го числа каждого месяца\n",
    "\n",
    "Найдите выборочное среднее, выборочный коэффициент эксцесса, выборочный коэффициент асимметрии"
   ]
  },
  {
   "cell_type": "code",
   "execution_count": 7,
   "metadata": {},
   "outputs": [
    {
     "name": "stdout",
     "output_type": "stream",
     "text": [
      "Выборочное среднее: 46.48888888888889\n",
      "Эксцесс: 4.96387147481753\n",
      "Ассиметрия: 1.47236056146598\n"
     ]
    }
   ],
   "source": [
    "from scipy import stats as st\n",
    "df['Delta'] = df['Qty13'] - df['Qty6']\n",
    "print(\"Выборочное среднее:\", df['Delta'].mean())\n",
    "print(\"Эксцесс:\", st.kurtosis(df['Delta']))\n",
    "print(\"Ассиметрия:\", st.skew(df['Delta']))"
   ]
  },
  {
   "cell_type": "markdown",
   "metadata": {},
   "source": [
    "Постройте гистограммы числа покупателей 13го и 6го числа, а также гистограмму разницы числа посетителей. Постройте ящики с усами числа покупателей 13го и 6го числа, а также их разницы"
   ]
  },
  {
   "cell_type": "code",
   "execution_count": 8,
   "metadata": {},
   "outputs": [
    {
     "data": {
      "image/png": "[encoded data removed]",
      "text/plain": [
       "<Figure size 720x360 with 3 Axes>"
      ]
     },
     "metadata": {
      "needs_background": "light"
     },
     "output_type": "display_data"
    }
   ],
   "source": [
    "fig, (ax1, ax2, ax3) = plt.subplots(1, 3, figsize = (10,5))\n",
    "fig.suptitle('Box plots')\n",
    "fig.tight_layout(pad=3.0)\n",
    "ax1.boxplot(df['Qty6'])\n",
    "ax2.boxplot(df['Qty13']);\n",
    "ax3.boxplot(df['Qty13'] - df['Qty6']);"
   ]
  },
  {
   "cell_type": "code",
   "execution_count": 9,
   "metadata": {},
   "outputs": [
    {
     "data": {
      "image/png": "[encoded data removed]",
      "text/plain": [
       "<Figure size 720x360 with 3 Axes>"
      ]
     },
     "metadata": {
      "needs_background": "light"
     },
     "output_type": "display_data"
    }
   ],
   "source": [
    "fig, axes = plt.subplots(1,3, figsize = (10,5))\n",
    "fig.suptitle('Histogram')\n",
    "fig.tight_layout(pad=3.0)\n",
    "listec = [df['Qty6'], df['Qty13'] - df['Qty6'], df['Qty13']]\n",
    "for ax, gr in zip(axes, listec):\n",
    "    ax.hist(gr, edgecolor='black', linewidth=1.2)   "
   ]
  },
  {
   "cell_type": "markdown",
   "metadata": {},
   "source": [
    "## Задача \"Колледжи\"\n",
    "Какие отличия между исследовательскими университетами и школами искусств?\n",
    "Используя данные из файла colleges, выдвините предположения о возможных различиях между двумя типами институтов.\n",
    "Для это проведите описательный анализ исходных данных.  Выдвините несколько гипотез.\n",
    "\n",
    "Например, \"В университеты поступить сложнее (процент принятых меньше)\"\n",
    "\n",
    "Формат файла\n",
    "    School -  название школы\n",
    "    School_Type - тип школы (школа искусств  'LibArts',  исследовательский университет 'Univ')\n",
    "    SAT - медиана объединенных значений Math и Verbal SAT  студентов\n",
    "    Acceptance: - % принятых абитуриентов\n",
    "    $/Student  -  Деньги, расходуемые на одного студента в среднем\n",
    "    Top 10% -  % студентов в топ 10% выпускных классов\n",
    "    %PhD -  %  факультетов, имеющих PhD\n",
    "    Grad%: % студентов, которые успешно завершили обучение"
   ]
  },
  {
   "cell_type": "code",
   "execution_count": 10,
   "metadata": {},
   "outputs": [
    {
     "data": {
      "text/html": [
       "<div>\n",
       "<style scoped>\n",
       "    .dataframe tbody tr th:only-of-type {\n",
       "        vertical-align: middle;\n",
       "    }\n",
       "\n",
       "    .dataframe tbody tr th {\n",
       "        vertical-align: top;\n",
       "    }\n",
       "\n",
       "    .dataframe thead th {\n",
       "        text-align: right;\n",
       "    }\n",
       "</style>\n",
       "<table border=\"1\" class=\"dataframe\">\n",
       "  <thead>\n",
       "    <tr style=\"text-align: right;\">\n",
       "      <th></th>\n",
       "      <th>School</th>\n",
       "      <th>School_Type</th>\n",
       "      <th>SAT</th>\n",
       "      <th>Acceptance</th>\n",
       "      <th>$/Student</th>\n",
       "      <th>Top 10%</th>\n",
       "      <th>%PhD</th>\n",
       "      <th>Grad%</th>\n",
       "    </tr>\n",
       "  </thead>\n",
       "  <tbody>\n",
       "    <tr>\n",
       "      <th>1</th>\n",
       "      <td>Amherst</td>\n",
       "      <td>Lib Arts</td>\n",
       "      <td>1315</td>\n",
       "      <td>22</td>\n",
       "      <td>26636</td>\n",
       "      <td>85</td>\n",
       "      <td>81</td>\n",
       "      <td>93</td>\n",
       "    </tr>\n",
       "    <tr>\n",
       "      <th>2</th>\n",
       "      <td>Swarthmore</td>\n",
       "      <td>Lib Arts</td>\n",
       "      <td>1310</td>\n",
       "      <td>24</td>\n",
       "      <td>27487</td>\n",
       "      <td>78</td>\n",
       "      <td>93</td>\n",
       "      <td>88</td>\n",
       "    </tr>\n",
       "    <tr>\n",
       "      <th>3</th>\n",
       "      <td>Williams</td>\n",
       "      <td>Lib Arts</td>\n",
       "      <td>1336</td>\n",
       "      <td>28</td>\n",
       "      <td>23772</td>\n",
       "      <td>86</td>\n",
       "      <td>90</td>\n",
       "      <td>93</td>\n",
       "    </tr>\n",
       "    <tr>\n",
       "      <th>4</th>\n",
       "      <td>Bowdoin</td>\n",
       "      <td>Lib Arts</td>\n",
       "      <td>1300</td>\n",
       "      <td>24</td>\n",
       "      <td>25703</td>\n",
       "      <td>78</td>\n",
       "      <td>95</td>\n",
       "      <td>90</td>\n",
       "    </tr>\n",
       "    <tr>\n",
       "      <th>5</th>\n",
       "      <td>Wellesley</td>\n",
       "      <td>Lib Arts</td>\n",
       "      <td>1250</td>\n",
       "      <td>49</td>\n",
       "      <td>27879</td>\n",
       "      <td>76</td>\n",
       "      <td>91</td>\n",
       "      <td>86</td>\n",
       "    </tr>\n",
       "  </tbody>\n",
       "</table>\n",
       "</div>"
      ],
      "text/plain": [
       "0      School School_Type   SAT  Acceptance  $/Student  Top 10%  %PhD  Grad%\n",
       "1     Amherst    Lib Arts  1315          22      26636       85    81     93\n",
       "2  Swarthmore    Lib Arts  1310          24      27487       78    93     88\n",
       "3    Williams    Lib Arts  1336          28      23772       86    90     93\n",
       "4     Bowdoin    Lib Arts  1300          24      25703       78    95     90\n",
       "5   Wellesley    Lib Arts  1250          49      27879       76    91     86"
      ]
     },
     "execution_count": 10,
     "metadata": {},
     "output_type": "execute_result"
    }
   ],
   "source": [
    "with open('data/colleges.txt') as file:\n",
    "        a = file.readlines()\n",
    "for i in range(len(a)):\n",
    "    a[i] = a[i].strip()\n",
    "    a[i] = a[i].split('\\t')\n",
    "df = pd.DataFrame(a)\n",
    "df.columns = df.iloc[0]\n",
    "df = df.drop(0)\n",
    "int_list = ['SAT', 'Acceptance', '$/Student', 'Top 10%', \\\n",
    "            '%PhD', 'Grad%']\n",
    "df[int_list] = df[int_list].astype('int')\n",
    "df.head()"
   ]
  },
  {
   "cell_type": "code",
   "execution_count": 11,
   "metadata": {},
   "outputs": [],
   "source": [
    "LibArts = df[(df['School_Type'] == 'Lib Arts')]\n",
    "Univ = df[(df['School_Type'] == 'Univ')]"
   ]
  },
  {
   "cell_type": "markdown",
   "metadata": {},
   "source": [
    "Найдите\n",
    "\n",
    "    выборочное среднее SAT школ искусств,\n",
    "    3й выборочный квартиль Acceptance университетов\n",
    "    название института(колледжа), в котором тратят денег в среднем на одного студента больше, чем в других институтах(колледжах)"
   ]
  },
  {
   "cell_type": "code",
   "execution_count": 12,
   "metadata": {},
   "outputs": [
    {
     "name": "stdout",
     "output_type": "stream",
     "text": [
      "Среднее:  1256.64\n",
      "3 квантиль: 45.0\n"
     ]
    },
    {
     "data": {
      "text/html": [
       "<div>\n",
       "<style scoped>\n",
       "    .dataframe tbody tr th:only-of-type {\n",
       "        vertical-align: middle;\n",
       "    }\n",
       "\n",
       "    .dataframe tbody tr th {\n",
       "        vertical-align: top;\n",
       "    }\n",
       "\n",
       "    .dataframe thead th {\n",
       "        text-align: right;\n",
       "    }\n",
       "</style>\n",
       "<table border=\"1\" class=\"dataframe\">\n",
       "  <thead>\n",
       "    <tr style=\"text-align: right;\">\n",
       "      <th></th>\n",
       "      <th>School</th>\n",
       "      <th>School_Type</th>\n",
       "      <th>SAT</th>\n",
       "      <th>Acceptance</th>\n",
       "      <th>$/Student</th>\n",
       "      <th>Top 10%</th>\n",
       "      <th>%PhD</th>\n",
       "      <th>Grad%</th>\n",
       "    </tr>\n",
       "  </thead>\n",
       "  <tbody>\n",
       "    <tr>\n",
       "      <th>30</th>\n",
       "      <td>Cal Tech</td>\n",
       "      <td>Univ</td>\n",
       "      <td>1400</td>\n",
       "      <td>31</td>\n",
       "      <td>102262</td>\n",
       "      <td>98</td>\n",
       "      <td>98</td>\n",
       "      <td>75</td>\n",
       "    </tr>\n",
       "  </tbody>\n",
       "</table>\n",
       "</div>"
      ],
      "text/plain": [
       "0     School School_Type   SAT  Acceptance  $/Student  Top 10%  %PhD  Grad%\n",
       "30  Cal Tech        Univ  1400          31     102262       98    98     75"
      ]
     },
     "execution_count": 12,
     "metadata": {},
     "output_type": "execute_result"
    }
   ],
   "source": [
    "import numpy as np\n",
    "print('Среднее: ',LibArts['SAT'].mean())\n",
    "print('3 квантиль:', np.quantile(Univ['Acceptance'], 0.75))\n",
    "Univ.sort_values('$/Student', ascending = False).head(1)"
   ]
  },
  {
   "cell_type": "code",
   "execution_count": 13,
   "metadata": {},
   "outputs": [
    {
     "data": {
      "image/png": "[encoded data removed]",
      "text/plain": [
       "<Figure size 720x360 with 3 Axes>"
      ]
     },
     "metadata": {
      "needs_background": "light"
     },
     "output_type": "display_data"
    }
   ],
   "source": [
    "fig, axes = plt.subplots(1,3, figsize = (10,5))\n",
    "fig.suptitle('Box plots')\n",
    "fig.tight_layout(pad=3.0)\n",
    "listec = [[LibArts['$/Student'], Univ['$/Student']],\n",
    "          [LibArts['Acceptance'], Univ['Acceptance']],\n",
    "          [LibArts['SAT'], Univ['SAT']]]\n",
    "for ax, gr in zip(axes, listec):\n",
    "    ax.boxplot(gr) "
   ]
  },
  {
   "cell_type": "code",
   "execution_count": 14,
   "metadata": {},
   "outputs": [
    {
     "data": {
      "image/png": "[encoded data removed]",
      "text/plain": [
       "<Figure size 720x360 with 3 Axes>"
      ]
     },
     "metadata": {
      "needs_background": "light"
     },
     "output_type": "display_data"
    }
   ],
   "source": [
    "fig, axes = plt.subplots(1,3, figsize = (10,5))\n",
    "fig.suptitle('Histograms')\n",
    "fig.tight_layout(pad=3.0)\n",
    "listec = [[LibArts['Grad%']],\n",
    "          [Univ['Grad%']],\n",
    "          [Univ['%PhD']]]\n",
    "for ax, gr in zip(axes, listec):\n",
    "    ax.hist(gr, edgecolor='black', linewidth=1.2) "
   ]
  }
 ],
 "metadata": {
  "kernelspec": {
   "display_name": "Python 3",
   "language": "python",
   "name": "python3"
  },
  "language_info": {
   "codemirror_mode": {
    "name": "ipython",
    "version": 3
   },
   "file_extension": ".py",
   "mimetype": "text/x-python",
   "name": "python",
   "nbconvert_exporter": "python",
   "pygments_lexer": "ipython3",
   "version": "3.8.5"
  }
 },
 "nbformat": 4,
 "nbformat_minor": 4
}
