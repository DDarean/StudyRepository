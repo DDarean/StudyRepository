{
 "cells": [
  {
   "cell_type": "markdown",
   "metadata": {},
   "source": [
    "### Модуль 5. Критерии однородности "
   ]
  },
  {
   "cell_type": "code",
   "execution_count": 1,
   "metadata": {},
   "outputs": [],
   "source": [
    "from scipy.stats.distributions import t, chi2, norm, f\n",
    "import numpy as np\n",
    "import pandas as pd\n",
    "import math\n",
    "import scipy.stats as st"
   ]
  },
  {
   "cell_type": "markdown",
   "metadata": {},
   "source": [
    "#### Задача 1"
   ]
  },
  {
   "cell_type": "markdown",
   "metadata": {},
   "source": [
    "Два токарных автомата изготавливают детали по одному чертежу. Из продукции первого станка было отобрано 9 деталей, а из продукции второго - 11 деталей. Выборочные дисперсии контролируемого  размера, определенные по этим выборкам 5.9мкм2 и 23.3мкм2. Проверьте гипотезу о равенстве дисперсий при уровне значимости 0.01, если альтернативная гипотеза утверждает, что дисперсии не равны. (предполагаем, что контролируемый размер подчиняется нормальному закону распределения)"
   ]
  },
  {
   "cell_type": "code",
   "execution_count": 3,
   "metadata": {},
   "outputs": [
    {
     "name": "stdout",
     "output_type": "stream",
     "text": [
      "quantile 1.212827164860947\n"
     ]
    }
   ],
   "source": [
    "m = 9\n",
    "n = 11\n",
    "print(\"quantile\", f.ppf(0.6, n-1, m-1))"
   ]
  },
  {
   "cell_type": "markdown",
   "metadata": {},
   "source": [
    "Проверьте гипотезу о равенстве дисперсий при уровне значимости 0.01, если альтернативная гипотеза утверждает, что дисперсии не равны. (предполагаем, что контролируемый размер подчиняется нормальному закону распределения)"
   ]
  },
  {
   "cell_type": "code",
   "execution_count": 4,
   "metadata": {},
   "outputs": [
    {
     "name": "stdout",
     "output_type": "stream",
     "text": [
      "Критическая область: (-inf, 0.16350773135811494) U (7.210635915223316, +inf)\n",
      "Z = 3.8613935969868174\n",
      "p-value = 0.06771319884993998, p-value < alpha: False\n"
     ]
    }
   ],
   "source": [
    "alpha = 0.01\n",
    "m = 9\n",
    "n = 11\n",
    "\n",
    "d1 = 5.9\n",
    "d2 = 23.3\n",
    "\n",
    "Z = (d2 * n / (n-1)) / (d1 * m / (m-1)) # берем отношение большего к меньшему\n",
    "p = 2*min(f.cdf(Z, n-1, m-1), 1 - f.cdf(Z, n-1, m-1))\n",
    "print(f\"Критическая область: (-inf, {f.ppf(alpha/2, n-1, m-1)}) U ({f.ppf(1 - alpha/2, n-1, m-1)}, +inf)\")\n",
    "print(f\"Z = {Z}\")\n",
    "print(f\"p-value = {p}, p-value < alpha: {p < alpha}\")"
   ]
  },
  {
   "cell_type": "markdown",
   "metadata": {},
   "source": [
    "#### Задача 2"
   ]
  },
  {
   "cell_type": "markdown",
   "metadata": {},
   "source": [
    "Можно ли считать, что средние двух нормально распределенных совокупностей равны, если выборочные средние и дисперсии, вычисленные по двум выборкам объема 16 и 9 равны соответственно $\\bar{x_1}=12.57, D^∗_1=0.91,  \\bar{x_2}=11.87, D^∗_2=1.51$? Известно, что дисперсии не  равны. Уровень значимости 0.02\n",
    "\n",
    "Найдите p-значение и примите статистическое решение"
   ]
  },
  {
   "cell_type": "code",
   "execution_count": 7,
   "metadata": {},
   "outputs": [
    {
     "name": "stdout",
     "output_type": "stream",
     "text": [
      "K -  13.0\n",
      "квантиль 0.3 -  -0.5375040895368409\n",
      "Критическая область: (-inf, -2.28160356373812) U (3.28160356373812, +inf)\n",
      "Z = 1.4016361972359104\n",
      "p-value = 0.18444537108003667, p-value < alpha: False\n"
     ]
    }
   ],
   "source": [
    "alpha = 0.02\n",
    "\n",
    "m = 16\n",
    "x1 = 12.57\n",
    "d1 = 0.91\n",
    "\n",
    "n = 9\n",
    "x2 = 11.87\n",
    "d2 = 1.51\n",
    "\n",
    "# считаем несмещенные оценки\n",
    "s1 = d1 * m / (m-1)\n",
    "s2 = d2 * n / (n-1)\n",
    "\n",
    "# ищем K\n",
    "\n",
    "def get_student_k(s1,s2,m,n):\n",
    "    a = (s1/m + s2/n)**2\n",
    "    b = ((s1/m)**2)/(m-1) + ((s2/n)**2)/(n-1)\n",
    "    return np.round(a/b)\n",
    "k = get_student_k(s1, s2, m, n)\n",
    "print(\"K - \", k)\n",
    "\n",
    "# квантиль\n",
    "q = t.ppf(0.3, k)\n",
    "# статистика\n",
    "Z = (x1 - x2) / np.sqrt(s1/m + s2/n)\n",
    "\n",
    "# проверяем\n",
    "p = 2*min(t.cdf(Z, k), 1 - t.cdf(Z, k))\n",
    "print(\"квантиль 0.3 - \", q)\n",
    "print(f\"Критическая область: (-inf, {t.ppf(alpha, k)}) U ({1 - t.ppf(alpha, k)}, +inf)\")\n",
    "print(f\"Z = {Z}\")\n",
    "print(f\"p-value = {p}, p-value < alpha: {p < alpha}\")"
   ]
  },
  {
   "cell_type": "markdown",
   "metadata": {},
   "source": [
    "#### Задача 3"
   ]
  },
  {
   "cell_type": "markdown",
   "metadata": {},
   "source": [
    "У 28 пациентов, имевших сердечный приступ, измерили уровень холестерина в крови через 2 и через 4 дня после сердечного приступа. Изменился ли уровень холестерина при втором измерении по сравнению с первым?\n",
    "\n",
    "Найдите квантиль распределения статистики критерия порядка 0.9.\n",
    "\n",
    "Найдите p-значение и примите статистическое решение при уровне значимости 0.05"
   ]
  },
  {
   "cell_type": "code",
   "execution_count": 22,
   "metadata": {},
   "outputs": [
    {
     "name": "stdout",
     "output_type": "stream",
     "text": [
      "Квантиль: 1.314\n",
      "P-value: 0.003\n"
     ]
    }
   ],
   "source": [
    "data = pd.read_csv('data/cholesterol.txt', sep = '\\t')\n",
    "n = data.shape[0]\n",
    "alpha = 0.05\n",
    "\n",
    "data['Q'] = data['Day2'] - data['Day4']\n",
    "Z_sample = data['Q'].mean() / data['Q'].std() * math.sqrt(n)\n",
    "p_value = 2 * min(t.cdf(Z_sample, n - 1), 1 - t.cdf(Z_sample, n - 1))\n",
    "\n",
    "print('Квантиль: {q:.3f}'.format(q=t.ppf(0.9,27)))\n",
    "print('P-value: {:.3f}'.format(p_value))"
   ]
  },
  {
   "cell_type": "markdown",
   "metadata": {},
   "source": [
    "#### Задача 4"
   ]
  },
  {
   "cell_type": "markdown",
   "metadata": {},
   "source": [
    "\n",
    "\n",
    "Кокаин чрезвычайно вреден для сердца, он может вызвать инфаркт миокарда даже у молодых людей без атеросклероза. Кокаин сужает коронарные сосуды, что приводит к уменьшению притока крови к миокарду кроме того, он ухудшает насосную функцию сердца. Нифедипин (препарат из группы антагонистов кальция) обладает способностью расширять сосуды, его применяют при ишемической болезни сердца. Ш. Хейл и соавт. (S. L. Hale, К. J. Alker, S. H. Rezkalla et al. Nifedipine protects the heart from the acute deleterious effects of cocaine if administered before but not after cocaine. Circulation, 83:1437—1443, 1991) предположили, что нифедипин можно использовать и при поражении сердца,\n",
    "\n",
    "вызванном кокаином. Собакам вводили кокаин, а затем нифедипин либо физиологический раствор. Показателем насосной функции сердца служило среднее артериальное давление. Были получены следующие данные.\n",
    "\n",
    "Среднее артериальное давление после приема кокаина, мм рт. ст. \n",
    "\n",
    "Влияет ли нифедипин на среднее артериальное давление после приема кокаина?\n",
    "\n",
    "Постройте статистику критерия, приняв за Yi Y_i Yi​ наблюдения артериального давления при приеме Нифедипина"
   ]
  },
  {
   "cell_type": "code",
   "execution_count": 23,
   "metadata": {},
   "outputs": [
    {
     "name": "stdout",
     "output_type": "stream",
     "text": [
      "71\n"
     ]
    }
   ],
   "source": [
    "placebo = [156, 171, 133, 102, 129, 150, 120, 110, 112, 130]\n",
    "truth = [73, 81, 103, 88, 131, 106, 107, 111, 122, 108]\n",
    "y = [(i, 'p') for i in placebo] + [(i, 't') for i in truth]\n",
    "y = sorted(y, key=lambda x: x[0])\n",
    "y = [(x[0], x[1], i + 1) for i, x in enumerate(y)]\n",
    "W = sum(x[2] for x in y if x[1] == 't')\n",
    "print(W)"
   ]
  },
  {
   "cell_type": "markdown",
   "metadata": {},
   "source": [
    "#### Задача 5"
   ]
  },
  {
   "cell_type": "markdown",
   "metadata": {},
   "source": [
    "Десяти людям была предложена специальная диета для похудания. После двухнедельного питания по этой диете масса тела участников эксперимента изменилась следующим образом:\n",
    "\n",
    "Оказывает ли эта диета какое-либо существенное действие на массу тела? Найдите значение статистики критерия знаков. Уровень значимости 0.05."
   ]
  },
  {
   "cell_type": "code",
   "execution_count": 24,
   "metadata": {},
   "outputs": [
    {
     "name": "stdout",
     "output_type": "stream",
     "text": [
      "4\n"
     ]
    }
   ],
   "source": [
    "before = [69, 80, 92, 81, 70, 79, 78, 66, 57, 77]\n",
    "after = [60, 84, 87, 79, 73, 71, 72, 67, 59, 70]\n",
    "alpha = 0.05\n",
    "n = len(after)\n",
    "\n",
    "z = [before[i] - after[i] for i in range(n)]\n",
    "L = np.sum([1 for i in z if i < 0])\n",
    "print(L)"
   ]
  },
  {
   "cell_type": "markdown",
   "metadata": {},
   "source": [
    "Найдите значение статистики критерия Вилкоксона. Уровень значимости 0.05.\n",
    "\n"
   ]
  },
  {
   "cell_type": "code",
   "execution_count": 32,
   "metadata": {},
   "outputs": [
    {
     "name": "stdout",
     "output_type": "stream",
     "text": [
      "abs(z) = [9 4 5 2 3 8 6 1 2 7]\n",
      "ranks = [10.   5.   6.   2.5  4.   9.   7.   1.   2.5  8. ]\n",
      "Критерий = 12.5\n"
     ]
    }
   ],
   "source": [
    "before = np.array([69,80,92,81,70,79,78,66,57,77])\n",
    "after = np.array([60,84,87,79,73,71,72,67,59,70])\n",
    "z = before - after\n",
    "z_abs = np.abs(z)\n",
    "print('abs(z) = {z}'.format(z = z_abs))\n",
    "\n",
    "ranks = st.rankdata(z_abs,  method='average')\n",
    "print('ranks = {r}'.format(r=ranks))\n",
    "print('Критерий = {summ}'.format(summ = sum(ranks[z < 0])))"
   ]
  },
  {
   "cell_type": "markdown",
   "metadata": {},
   "source": [
    "#### Задача 6. ANOVA"
   ]
  },
  {
   "cell_type": "markdown",
   "metadata": {},
   "source": [
    "Время химической реакции при различном содержании катализатора распределилось следующим образом\n",
    "\n",
    "Выборки получены из нормально распределенных генеральных совокупностей с равными дисперсиями. Проверить гипотезу о равенстве средних. Уровень значимости принять равным 0.1.\n",
    "\n",
    "Найдите значение статистики, которая является точечной оценкой дисперсии независимо от того, верна нулевая гипотеза или нет."
   ]
  },
  {
   "cell_type": "code",
   "execution_count": 35,
   "metadata": {},
   "outputs": [
    {
     "name": "stdout",
     "output_type": "stream",
     "text": [
      "0.412\n"
     ]
    }
   ],
   "source": [
    "'''\n",
    "Статистика, когда не важно верна или нет H0\n",
    "sigma2 = Q1 / (N - k)\n",
    "'''\n",
    "X_1 = np.array([5.9, 6.0, 7.0, 6.5, 5.5, 7.0, 8.1, 7.5, 6.2, 6.4, 7.1, 6.9])\n",
    "X_2 = np.array([4.0, 5.1, 6.2, 5.3, 4.5, 4.4, 5.3, 5.4, 5.6, 5.2])\n",
    "X_3 = np.array([8.2, 6.8, 8.0, 7.5, 7.2, 7.9, 8.1, 8.5, 7.8, 8.1])\n",
    "Q_1 = sum([sum((y - np.mean(y)) ** 2) for y in [X_1, X_2, X_3]])\n",
    "N = X_1.size + X_2.size + X_3.size\n",
    "k = 3\n",
    "print(round(Q_1/(N-k), 3))"
   ]
  },
  {
   "cell_type": "markdown",
   "metadata": {},
   "source": [
    "Определите распределение статистики критерия в предположении справедливости нулевой гипотезы. Найдите квантиль распределения статистики критерия, участвующий в построении критической области. "
   ]
  },
  {
   "cell_type": "code",
   "execution_count": 36,
   "metadata": {},
   "outputs": [
    {
     "data": {
      "text/plain": [
       "2.4954833142354644"
      ]
     },
     "execution_count": 36,
     "metadata": {},
     "output_type": "execute_result"
    }
   ],
   "source": [
    "f.ppf(0.9,2,29)"
   ]
  },
  {
   "cell_type": "markdown",
   "metadata": {},
   "source": [
    "Найдите выборочное значение статистики критерия и примите статистическое решение"
   ]
  },
  {
   "cell_type": "code",
   "execution_count": 3,
   "metadata": {},
   "outputs": [
    {
     "name": "stdout",
     "output_type": "stream",
     "text": [
      "Q1 = 11.951499999999998\n",
      "Q2 = 16.608500000000003\n",
      "Выборочное значение статистики: 20.150043927540484\n",
      "Критическая область: (2.4954833142354644; +inf)\n",
      "p-value: 3.2668642195865516e-06\n"
     ]
    }
   ],
   "source": [
    "\n",
    "alpha = 0.1\n",
    "\n",
    "x_1 = np.array([5.9, 6.0, 7.0, 6.5, 5.5, 7.0, 8.1, 7.5, 6.2, 6.4, 7.1, 6.9])\n",
    "x_2 = np.array([4.0, 5.1, 6.2, 5.3, 4.5, 4.4, 5.3, 5.4, 5.6, 5.2])\n",
    "x_3 = np.array([8.2, 6.8, 8.0, 7.5, 7.2, 7.9, 8.1, 8.5, 7.8, 8.1])\n",
    "\n",
    "# вычисляем общую выборку, общую длину и общее среднее\n",
    "k = 3\n",
    "A = np.concatenate([x_1, x_2, x_3])\n",
    "N = len(A)\n",
    "m = A.mean()\n",
    "\n",
    "# задаем распределение Фишера, которое будет использоваться\n",
    "f_local = f(k - 1, N - k)\n",
    "\n",
    "a1_d = sum((x_1 - x_1.mean())**2)\n",
    "a2_d = sum((x_2 - x_2.mean())**2)\n",
    "a3_d = sum((x_3 - x_3.mean())**2)\n",
    "\n",
    "Q1 = a1_d + a2_d + a3_d\n",
    "print(f\"Q1 = {Q1}\")\n",
    "\n",
    "Q2 = \\\n",
    "    len(x_1) * (m - x_1.mean())**2 + \\\n",
    "    len(x_2) * (m - x_1.mean())**2 + \\\n",
    "    len(x_3) * (m - x_3.mean())**2\n",
    "print(f\"Q2 = {Q2}\")\n",
    "\n",
    "Fv = (Q2 / (k - 1)) / (Q1 / (N - k))\n",
    "print(f\"Выборочное значение статистики: {Fv}\")\n",
    "print(f\"Критическая область: ({f_local.ppf(1-alpha)}; +inf)\")\n",
    "print(f\"p-value: {1 - f_local.cdf(Fv)}\")"
   ]
  },
  {
   "cell_type": "markdown",
   "metadata": {},
   "source": [
    "Найдите точечную оценку линейного контраста для проверки частной нулевой гипотезы о равенстве среднего времени химической реакции при содержании катализатора  5% и 10% (H0:a5%=a10% )"
   ]
  },
  {
   "cell_type": "code",
   "execution_count": 5,
   "metadata": {},
   "outputs": [
    {
     "name": "stdout",
     "output_type": "stream",
     "text": [
      "1.575\n"
     ]
    }
   ],
   "source": [
    "print(round(np.mean(x_1) - np.mean(x_2),3))"
   ]
  },
  {
   "cell_type": "markdown",
   "metadata": {},
   "source": [
    "Найдите доверительный интервал для линейного контраста для проверки частной нулевой гипотезы о равенстве среднего времени химической реакции при содержании катализатора  5% и 10% (H0:a5%=a10%) и примите статистическое решение о равенстве сравниваемых мат.ожиданий"
   ]
  },
  {
   "cell_type": "code",
   "execution_count": 6,
   "metadata": {},
   "outputs": [
    {
     "name": "stdout",
     "output_type": "stream",
     "text": [
      "0.961, 2.189, H1\n"
     ]
    }
   ],
   "source": [
    "def Lk_pe(k1, k2):        # точечная оценка линейного контраста с индексом 'k1k2'\n",
    "    \n",
    "    return np.mean(X[k1]) - np.mean(X[k2])\n",
    "\n",
    "def n(j):\n",
    "    \n",
    "    return len(X[j])\n",
    "\n",
    "\n",
    "X = {\n",
    "    '5%': (5.9, 6.0, 7.0, 6.5, 5.5, 7.0, 8.1, 7.5, 6.2, 6.4, 7.1, 6.9),\n",
    "    '10%': (4.0, 5.1, 6.2, 5.3, 4.5, 4.4, 5.3, 5.4, 5.6, 5.2),\n",
    "    '15%': (8.2, 6.8, 8.0, 7.5, 7.2, 7.9, 8.1, 8.5, 7.8, 8.1)\n",
    "}\n",
    "alpha = 0.1\n",
    "k = len(X) \n",
    "k1, k2 = '5%', '10%'\n",
    "N, Q1 = 0, 0\n",
    "\n",
    "for j in X.keys():\n",
    "    Xj_mean = np.mean(X[j])\n",
    "    N += n(j)\n",
    "    \n",
    "    for i in range(0, n(j)):\n",
    "        Q1 += (X[j][i] - Xj_mean) ** 2\n",
    "\n",
    "S2_pe = Q1 / (N - k) * (1 / n(k1) + 1 / n(k2))        # оценка дисперсии Lk_pe\n",
    "f_alpha = f.ppf(1 - alpha, k - 1, N - k)        # квантиль распределения Фишера\n",
    "\n",
    "Lk_rb = Lk_pe(k1, k2) + np.sqrt(S2_pe * (k - 1) * f_alpha)        # правая граница ДИ\n",
    "Lk_lb = Lk_pe(k1, k2) - np.sqrt(S2_pe * (k - 1) * f_alpha)        # левая граница ДИ\n",
    "\n",
    "if (0 > Lk_lb) & (0 < Lk_rb) :\n",
    "    H = 'H0'\n",
    "else:\n",
    "    H = 'H1'\n",
    "\n",
    "print('{:.3f}, {:.3f}, {}'.format(Lk_lb, Lk_rb, H))"
   ]
  },
  {
   "cell_type": "markdown",
   "metadata": {},
   "source": [
    "#### Задача 7"
   ]
  },
  {
   "cell_type": "markdown",
   "metadata": {},
   "source": [
    "Проверьте, правда ли, что болевой барьер у блондинов и брюнетов разный. \n",
    "\n",
    "Найдите средний ранг болевого барьера для  светлых брюнетов."
   ]
  },
  {
   "cell_type": "code",
   "execution_count": 12,
   "metadata": {},
   "outputs": [
    {
     "name": "stdout",
     "output_type": "stream",
     "text": [
      "Средний ранг = 7.75\n"
     ]
    }
   ],
   "source": [
    "light_blond = [62, 60, 71, 55, 48]\n",
    "dark_blond = [63, 57, 52, 41, 43]\n",
    "light_brunet = [42, 50, 44, 37]\n",
    "dark_brunet = [32, 39, 51, 30, 35]\n",
    "\n",
    "var_series = light_brunet + light_blond + dark_blond + dark_brunet\n",
    "\n",
    "ranks = st.rankdata(var_series)\n",
    "\n",
    "n_j = len(light_brunet)\n",
    "\n",
    "mean_rank = sum(ranks[:n_j]) / n_j\n",
    "\n",
    "print(f'Средний ранг = {mean_rank:.2f}')"
   ]
  },
  {
   "cell_type": "markdown",
   "metadata": {},
   "source": [
    "Найдите выборочное значение статистики критерия и примите статистическое решение. Уровень значимости 0.05"
   ]
  },
  {
   "cell_type": "code",
   "execution_count": 11,
   "metadata": {},
   "outputs": [
    {
     "data": {
      "text/plain": [
       "KruskalResult(statistic=10.14473684210526, pvalue=0.017375049894891817)"
      ]
     },
     "execution_count": 11,
     "metadata": {},
     "output_type": "execute_result"
    }
   ],
   "source": [
    "st.kruskal(light_blond, dark_blond, light_brunet, dark_brunet)"
   ]
  }
 ],
 "metadata": {
  "kernelspec": {
   "display_name": "Python 3",
   "language": "python",
   "name": "python3"
  },
  "language_info": {
   "codemirror_mode": {
    "name": "ipython",
    "version": 3
   },
   "file_extension": ".py",
   "mimetype": "text/x-python",
   "name": "python",
   "nbconvert_exporter": "python",
   "pygments_lexer": "ipython3",
   "version": "3.8.5"
  }
 },
 "nbformat": 4,
 "nbformat_minor": 4
}
