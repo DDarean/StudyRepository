{
 "cells": [
  {
   "cell_type": "markdown",
   "metadata": {
    "cellId": "xekzuhyzcrctar3v51pb"
   },
   "source": [
    "### Модуль 6. Критерии согласия. Таблицы сопряженности"
   ]
  },
  {
   "cell_type": "code",
   "execution_count": 32,
   "metadata": {
    "cellId": "3plbfjxf0xg0nylic10m7"
   },
   "outputs": [],
   "source": [
    "import numpy as np\n",
    "import scipy\n",
    "from scipy.stats import chisquare, poisson, chi2, expon, norm, skew, kurtosis"
   ]
  },
  {
   "cell_type": "markdown",
   "metadata": {
    "cellId": "935rl61xh98f3cm756l29q"
   },
   "source": [
    "#### Задача 1"
   ]
  },
  {
   "cell_type": "markdown",
   "metadata": {
    "cellId": "8pykh4h70otoj1ug5b49tg"
   },
   "source": [
    "Исследователь Василий по выборке\n",
    "\n",
    "проверяет гипотезу об экспоненциальном законе распределения с параметром λ=2 генеральной совокупности. Найдите  вероятность попадания генеральной совокупности в интервал (0.2, 0.5]  при условии, что верна нулевая гипотеза."
   ]
  },
  {
   "cell_type": "code",
   "execution_count": 17,
   "metadata": {
    "cellId": "p3yta1lajyfzih0ao3fp"
   },
   "outputs": [],
   "source": [
    "X = np.array([0.29, 0.01, 0.50, 0.21, 0.65, 0.34, 0.75, 0.07, \\\n",
    "      0.07, 0.25, 1.26, 0.11, 0.22, 0.95, 0.63, 0.93, 0.73, 0.37, 0.80, 1.10])\n",
    "\n",
    "a = 0.01"
   ]
  },
  {
   "cell_type": "code",
   "execution_count": 2,
   "metadata": {
    "cellId": "xqhr5eja5zuvn6q5dsscs"
   },
   "outputs": [
    {
     "data": {
      "text/plain": [
       "0.302"
      ]
     },
     "metadata": {},
     "output_type": "display_data"
    }
   ],
   "source": [
    "from scipy.stats import expon\n",
    "round(expon.cdf(0.5,scale=0.5)-expon.cdf(0.2,scale=0.5),3)"
   ]
  },
  {
   "cell_type": "markdown",
   "metadata": {
    "cellId": "ghmrojd3hop2fynrzjbdn5"
   },
   "source": [
    "Чему равен квантиль распределения статистики критерия, участвующий в построении критической области, если уровень значимости равен 0.01?"
   ]
  },
  {
   "cell_type": "code",
   "execution_count": 6,
   "metadata": {
    "cellId": "k2b2fsuo6ye31ve6c9lcye"
   },
   "outputs": [
    {
     "data": {
      "text/plain": [
       "9.21034037197618"
      ]
     },
     "metadata": {},
     "output_type": "display_data"
    }
   ],
   "source": [
    "chi2.ppf(1-0.01, 2)"
   ]
  },
  {
   "cell_type": "markdown",
   "metadata": {
    "cellId": "yenqjt5gqji0lvgxpxz8"
   },
   "source": [
    "Найдите выборочное значение статистики критерия примите статистическое решение. Уровень значимости 0.01"
   ]
  },
  {
   "cell_type": "code",
   "execution_count": 22,
   "metadata": {
    "cellId": "2bdrnjl7mfciy3lqblklwo"
   },
   "outputs": [
    {
     "name": "stdout",
     "output_type": "stream",
     "text": [
      "1.536 H0\n"
     ]
    }
   ],
   "source": [
    "f_obs=np.array([X[X<=0.2].size, X[(X>0.2) & (X<=0.5)].size, X[X>0.5].size])\n",
    "f_exp=X.size*np.array([expon.cdf(0.2,scale=0.5), expon.cdf(0.5,scale=0.5)- expon.cdf(0.2,scale=0.5),1- expon.cdf(0.5,scale=0.5)])\n",
    "\n",
    "S,p=chisquare(f_obs=f_obs, f_exp=f_exp)\n",
    "\n",
    "print(round(S,3),\"H0\" if S<=chi2.ppf(1-a,3-1) else \"H1\")"
   ]
  },
  {
   "cell_type": "markdown",
   "metadata": {
    "cellId": "ysnqb6qt49g4i4zy8dzqr"
   },
   "source": [
    "#### Задача 2"
   ]
  },
  {
   "cell_type": "markdown",
   "metadata": {
    "cellId": "u3gbe67ljl8mno97o4bhqs"
   },
   "source": [
    "С помощью критерия Колмогорова проверьте  гипотезу о том, что объем шампуня в упаковке подчиняется нормальному закону распределения с мат. ожиданием 450  и дисперсией 16:\n",
    "\n",
    "451 450 444 454 447\n",
    "\n",
    "Найдите значение статистики критерия Колмогорова sqrt{n}D_n "
   ]
  },
  {
   "cell_type": "code",
   "execution_count": 24,
   "metadata": {
    "cellId": "s55z50n0w9s21nxhcgdysj"
   },
   "outputs": [
    {
     "name": "stdout",
     "output_type": "stream",
     "text": [
      "0.450\n"
     ]
    }
   ],
   "source": [
    "from scipy.stats import kstest\n",
    "\n",
    "X = [451, 450, 444, 454, 447]\n",
    "X.sort()\n",
    "N = len(X)\n",
    "mu = 450\n",
    "sigma2 = 16\n",
    "\n",
    "Dn, p_value = kstest(X, 'norm', args = (mu, np.sqrt(sigma2)))\n",
    "Kstat = np.sqrt(N) * Dn\n",
    "\n",
    "print('{:.3f}'.format(Kstat))"
   ]
  },
  {
   "cell_type": "code",
   "execution_count": null,
   "metadata": {
    "cellId": "a2tpnc39nezlxjd6w5sv"
   },
   "outputs": [],
   "source": [
    "#### Задача 3"
   ]
  },
  {
   "cell_type": "code",
   "execution_count": null,
   "metadata": {
    "cellId": "ss5blvr1xt886a6hc0pak6"
   },
   "outputs": [],
   "source": []
  },
  {
   "cell_type": "markdown",
   "metadata": {
    "cellId": "79yvstacbx8697axa4654p"
   },
   "source": [
    "#### Задача 4"
   ]
  },
  {
   "cell_type": "markdown",
   "metadata": {
    "cellId": "hmb6t6usojio96soap2q3f"
   },
   "source": [
    "По выборке\n",
    "найдите значение статистики Жарка-Бера"
   ]
  },
  {
   "cell_type": "code",
   "execution_count": 30,
   "metadata": {
    "cellId": "lwjwn20b9pz2toe5ud4o"
   },
   "outputs": [
    {
     "name": "stdout",
     "output_type": "stream",
     "text": [
      "0.21565419512884015\n",
      "(0.21565419512884013, 0.8977828118462765)\n"
     ]
    }
   ],
   "source": [
    "from scipy.stats import jarque_bera\n",
    "\n",
    "a = '3.4 7.0 3.9 6.1 0.9 4.6 6.4 3.2 1.8 4.8 3.8 5.6 1.3 3.3 3.7 2.9 5.2 3.7 5.0 3.9'\n",
    "a = [float(x) for x in a.split(' ')]\n",
    "n = len(a)\n",
    "\n",
    "SK = skew(a)\n",
    "K = kurtosis(a)\n",
    "JB = n/6*(SK**2 + K**2/4)\n",
    "print(JB)\n",
    "print(jarque_bera(a))"
   ]
  },
  {
   "cell_type": "markdown",
   "metadata": {
    "cellId": "co649vy4ikeylt27o2esh"
   },
   "source": [
    "найдите значение статистики Андерсона-Дарлинга"
   ]
  },
  {
   "cell_type": "code",
   "execution_count": 33,
   "metadata": {
    "cellId": "u25eclxo1wf82e7ur6gn9h"
   },
   "outputs": [
    {
     "data": {
      "text/plain": [
       "AndersonResult(statistic=0.2345974610623358, critical_values=array([0.506, 0.577, 0.692, 0.807, 0.96 ]), significance_level=array([15. , 10. ,  5. ,  2.5,  1. ]))"
      ]
     },
     "metadata": {},
     "output_type": "display_data"
    }
   ],
   "source": [
    "from scipy.stats import anderson\n",
    "anderson(a, dist='norm')"
   ]
  },
  {
   "cell_type": "markdown",
   "metadata": {
    "cellId": "paa7uqtym6auwsdtjei0s"
   },
   "source": [
    "#### Задача 5"
   ]
  },
  {
   "cell_type": "markdown",
   "metadata": {
    "cellId": "325mmh9qe7ecgww4shcg8d"
   },
   "source": [
    "Решим данную задачу с помощью критерия однородности Колмогорова-Смирнова\n",
    "\n",
    "Кокаин чрезвычайно вреден для сердца, он может вызвать инфаркт миокарда даже у молодых людей без атеросклероза. Кокаин сужает коронарные сосуды, что приводит к уменьшению притока крови к миокарду кроме того, он ухудшает насосную функцию сердца. Нифедипин (препарат из группы антагонистов кальция) обладает способностью расширять сосуды, его применяют при ишемической болезни сердца. Ш. Хейл и соавт. (S. L. Hale, К. J. Alker, S. H. Rezkalla et al. Nifedipine protects the heart from the acute deleterious effects of cocaine if administered before but not after cocaine. Circulation, 83:1437—1443, 1991) предположили, что нифедипин можно использовать и при поражении сердца,\n",
    "вызванном кокаином. Собакам вводили кокаин, а затем нифедипин либо физиологический раствор. Показателем насосной функции сердца служило среднее артериальное давление. Были получены следующие данные.\n",
    "Среднее артериальное давление после приема кокаина, мм рт. ст."
   ]
  },
  {
   "cell_type": "code",
   "execution_count": 38,
   "metadata": {
    "cellId": "13lo8n3kk8e33f0y8w17r2"
   },
   "outputs": [
    {
     "data": {
      "text/plain": [
       "1.3416407864998738"
      ]
     },
     "metadata": {},
     "output_type": "display_data"
    }
   ],
   "source": [
    "from scipy.stats import ks_2samp\n",
    "\n",
    "p=[156,171,133,102,129,150,120,110,112,130]\n",
    "n=[73,81,103,88,131,106,107,111,122,108]\n",
    "p.sort()\n",
    "n.sort()\n",
    "\n",
    "ks_2samp(p, n)[0]*np.sqrt((len(p)*len(n))/(len(n)+len(p)))"
   ]
  }
 ],
 "metadata": {
  "kernelspec": {
   "display_name": "Python 3",
   "language": "python",
   "name": "python3"
  },
  "language_info": {
   "codemirror_mode": {
    "name": "ipython",
    "version": 3
   },
   "file_extension": ".py",
   "mimetype": "text/x-python",
   "name": "python",
   "nbconvert_exporter": "python",
   "pygments_lexer": "ipython3",
   "version": "3.8.5"
  },
  "notebookId": "32c0b6b0-1f5a-466e-9106-b9baef2cd5ca"
 },
 "nbformat": 4,
 "nbformat_minor": 4
}
