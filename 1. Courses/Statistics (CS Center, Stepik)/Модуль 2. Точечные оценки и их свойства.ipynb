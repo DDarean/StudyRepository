{
 "cells": [
  {
   "cell_type": "markdown",
   "metadata": {},
   "source": [
    "### Модуль 2. Точечные оценки и их свойства"
   ]
  },
  {
   "cell_type": "code",
   "execution_count": 13,
   "metadata": {},
   "outputs": [],
   "source": [
    "import numpy as np\n",
    "import math"
   ]
  },
  {
   "cell_type": "markdown",
   "metadata": {},
   "source": [
    "#### Задача 1"
   ]
  },
  {
   "cell_type": "markdown",
   "metadata": {},
   "source": [
    "Предложенная выборка получена из нормально распределенной генеральной совокупности N(a,σ) N(a,\\sigma) N(a,σ).\n",
    "\n",
    "С помощь метода подстановки найдите точечную оценку параметра a."
   ]
  },
  {
   "cell_type": "code",
   "execution_count": 8,
   "metadata": {},
   "outputs": [
    {
     "name": "stdout",
     "output_type": "stream",
     "text": [
      "29.897\n"
     ]
    }
   ],
   "source": [
    "listec = [31.16, 26.25, 29.46, 31.18, 32.04, 27.84, 30.28, \\\n",
    "          32.82, 29.48, 28.46]\n",
    "print(sum(listec)/len(listec))"
   ]
  },
  {
   "cell_type": "markdown",
   "metadata": {},
   "source": [
    "#### Задача 2"
   ]
  },
  {
   "cell_type": "markdown",
   "metadata": {},
   "source": [
    "Из продукции станка извлечена выборка изделий и результаты измерений одного из размеров изделий (в мм) приведены ниже\n",
    "\n",
    "17.4 19.9 19.9 19.0 20.7 18.2 18.6 20.3 21.7 20.8 16.7 20.3 22.5 18.3 21.1 16.3 22.0 19.5 18.1 21.1 20.0 21.6 21.5 21.1 23.3 23.0 17.8 19.5 21.6 22.9\n",
    "\n",
    "Предполагая, что выборка значений контролируемого размера изделий подчиняется нормальному закону распределения, найдите оценку дисперсии с помощью метода моментов."
   ]
  },
  {
   "cell_type": "code",
   "execution_count": 12,
   "metadata": {},
   "outputs": [
    {
     "name": "stdout",
     "output_type": "stream",
     "text": [
      "3.413788888888746\n"
     ]
    }
   ],
   "source": [
    "listec = [17.4, 19.9, 19.9, 19.0, 20.7, 18.2, 18.6, 20.3,\\\n",
    "          21.7, 20.8, 16.7, 20.3, 22.5, 18.3, 21.1,\\\n",
    "          16.3, 22.0, 19.5, 18.1, 21.1, 20.0, 21.6,\\\n",
    "          21.5, 21.1, 23.3, 23.0, 17.8, 19.5, 21.6, 22.9]\n",
    "a = np.mean(listec)\n",
    "m2 = [x**2 for x in listec]\n",
    "print(sum(m2)/len(listec)-a**2)"
   ]
  },
  {
   "cell_type": "markdown",
   "metadata": {},
   "source": [
    "#### Задача 3"
   ]
  },
  {
   "cell_type": "markdown",
   "metadata": {},
   "source": [
    "По выборке\n",
    "\n",
    "(2,  1,  0,  0,  1)\n",
    "\n",
    "из генеральной совокупности, имеющей  закон распределения Пуассона, найдите значение логарифмической функции правдоподобия для λ=3"
   ]
  },
  {
   "cell_type": "code",
   "execution_count": 15,
   "metadata": {},
   "outputs": [
    {
     "name": "stdout",
     "output_type": "stream",
     "text": [
      "-11.298698025887505\n"
     ]
    }
   ],
   "source": [
    "listec = [2,  1,  0,  0,  1]\n",
    "lambdaa = 3\n",
    "\n",
    "listec_m = [x*math.log(lambdaa) for x in listec]\n",
    "listec_log = [(math.log(math.factorial(x))) for x in listec]\n",
    "func = -lambdaa*len(listec) + sum(listec_m) - sum(listec_log)\n",
    "print(func)"
   ]
  },
  {
   "cell_type": "markdown",
   "metadata": {},
   "source": [
    "#### Задача 4"
   ]
  },
  {
   "cell_type": "markdown",
   "metadata": {},
   "source": [
    "По предложенной выборке с помощью метода максимального правдоподобия найдите точечную оценку параметра θ равномерно на [0,θ]  распределенной случайной величины\n"
   ]
  },
  {
   "cell_type": "code",
   "execution_count": 16,
   "metadata": {},
   "outputs": [
    {
     "name": "stdout",
     "output_type": "stream",
     "text": [
      "-16.13\n"
     ]
    }
   ],
   "source": [
    "listec = [-12.8, -8.85, -13.45, -5.17, -12.11, -16.13,\\\n",
    "          -7.57, -1.64, -8.91, -6.62]\n",
    "print(sorted(listec)[0])"
   ]
  },
  {
   "cell_type": "markdown",
   "metadata": {},
   "source": [
    "#### Задача 5"
   ]
  },
  {
   "cell_type": "markdown",
   "metadata": {},
   "source": [
    "Случайная величина ξ  принимает значение 1 с вероятностью θ  и значение 2 с вероятностью 1−θ. Имеется 3 наблюдения случайной величины ξ : 1, 2, 2. Найдите оценки праметра θ с помощью\n",
    "\n",
    "    метода моментов (g(x)=x)\n",
    "    метода максимального правдоподобия\n",
    "\n",
    "Формат ответа: оценка параметра, полученная методом моментов, с точностью 2 знака после запятой, далее через запятую и пробел оценка параметра, полученная методом максимального правдоподобия,  с точностью 2 знака после запятой"
   ]
  },
  {
   "cell_type": "code",
   "execution_count": 18,
   "metadata": {},
   "outputs": [
    {
     "data": {
      "text/plain": [
       "0.33"
      ]
     },
     "execution_count": 18,
     "metadata": {},
     "output_type": "execute_result"
    }
   ],
   "source": [
    "0.33"
   ]
  }
 ],
 "metadata": {
  "kernelspec": {
   "display_name": "Python 3",
   "language": "python",
   "name": "python3"
  },
  "language_info": {
   "codemirror_mode": {
    "name": "ipython",
    "version": 3
   },
   "file_extension": ".py",
   "mimetype": "text/x-python",
   "name": "python",
   "nbconvert_exporter": "python",
   "pygments_lexer": "ipython3",
   "version": "3.8.5"
  }
 },
 "nbformat": 4,
 "nbformat_minor": 4
}
