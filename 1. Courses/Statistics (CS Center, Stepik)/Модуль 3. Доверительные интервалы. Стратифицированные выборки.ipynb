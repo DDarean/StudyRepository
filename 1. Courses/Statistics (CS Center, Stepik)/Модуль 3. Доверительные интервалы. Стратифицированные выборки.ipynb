{
 "cells": [
  {
   "cell_type": "markdown",
   "metadata": {},
   "source": [
    "### Модуль 3. Доверительные интервалы. Стратифицированные выборки"
   ]
  },
  {
   "cell_type": "code",
   "execution_count": 37,
   "metadata": {},
   "outputs": [],
   "source": [
    "import numpy as np\n",
    "import warnings\n",
    "from scipy import stats\n",
    "warnings.filterwarnings('ignore')"
   ]
  },
  {
   "cell_type": "markdown",
   "metadata": {},
   "source": [
    "#### Задача 1"
   ]
  },
  {
   "cell_type": "markdown",
   "metadata": {},
   "source": [
    "Найдите мат.ожидание и дисперсию смеси из трех нормально распределенных случайных величин.\n",
    "\n",
    "Параметры смеси:  \n",
    "w1=0.3; a1=3; σ12=1 \n",
    "\n",
    "w2=0.6; a2=2; σ22=4 \n",
    "\n",
    "w3=0.1; a3=5; σ32=0.01 "
   ]
  },
  {
   "cell_type": "code",
   "execution_count": 25,
   "metadata": {},
   "outputs": [
    {
     "name": "stdout",
     "output_type": "stream",
     "text": [
      "Мат. ожидание смеси: 2.5999999999999996\n",
      "Мат. ожидание смеси (stratified_avg): 2.5999999999999996\n",
      "Дисперсия смеси: 3.5409999999999995\n",
      "Дисперсия смеси (stratified_variance): 3.5409999999999995\n"
     ]
    }
   ],
   "source": [
    "def stratified_avg(weights, avgs):\n",
    "    weighted_list = [weight*avg for (weight,avg) in zip(weights, avgs)]\n",
    "    return np.sum(weighted_list)\n",
    "\n",
    "def stratified_variance(weights, avgs, variances):\n",
    "    expected = stratified_avg(weights, avgs)\n",
    "    weighted_list = [weight*(variance + (avg-expected)**2) for (weight,avg, variance)\\\n",
    "                     in zip(weights, avgs, variances)]\n",
    "    return np.sum(weighted_list)\n",
    "\n",
    "w1, w2, w3 = 0.3, 0.6, 0.1\n",
    "a1, a2, a3 = 3, 2, 5\n",
    "s12, s22, s32 = 1, 4, 0.01\n",
    "\n",
    "mu = (w1*a1 + w2*a2 + w3*a3)\n",
    "print('Мат. ожидание смеси:', mu)\n",
    "print('Мат. ожидание смеси (stratified_avg):', stratified_avg([0.3, 0.6, 0.1], [3,2,5]))\n",
    "\n",
    "var = w1*((a1-mu)**2+s12) + w2*((a2-mu)**2+s22) + w3*((a3-mu)**2+s32)\n",
    "print('Дисперсия смеси:', var)\n",
    "print('Дисперсия смеси (stratified_variance):', stratified_variance([0.3, 0.6, 0.1], [3,2,5],[1,4,0.01]))"
   ]
  },
  {
   "cell_type": "markdown",
   "metadata": {},
   "source": [
    "#### Задача 2"
   ]
  },
  {
   "cell_type": "markdown",
   "metadata": {},
   "source": [
    "Предположим, что необходимо оценить число свободных мест в больницах. Все больницы разбили на 2 страты по числу коек-мест. Доля страты 1 составила 40%, страты 2 - 60%.\n",
    "\n",
    "Из каждой страты были получены выборки числа свободных мест объемом 10 каждая:\n",
    "\n",
    "страта 1: 282, 226, 188, 327, 344, 304, 414, 224, 335, 270\n",
    "\n",
    "страта 2: 417,  851,  742, 1217, 1160,  993,  864,  852, 1286,  988\n",
    "\n",
    "Найдите оценку среднего числа свободных мест в больницах, а также оценку дисперсии числа свободных мест\n",
    "\n",
    "\n"
   ]
  },
  {
   "cell_type": "code",
   "execution_count": 24,
   "metadata": {},
   "outputs": [
    {
     "name": "stdout",
     "output_type": "stream",
     "text": [
      "Среднее число свободных мест:  678.76\n",
      "Оценки дисперсии числа свободных мест: 136721.6624\n"
     ]
    }
   ],
   "source": [
    "strat1 = [282, 226, 188, 327, 344, 304, 414, 224, 335, 270]\n",
    "strat2 = [417,  851,  742, 1217, 1160,  993,  864,  852, 1286,  988]\n",
    "w1 = 0.4\n",
    "w2 = 0.6\n",
    "\n",
    "mean1 = np.mean(strat1)\n",
    "mean2 = np.mean(strat2)\n",
    "mean_strat = mean1*w1 + mean2*w2\n",
    "\n",
    "var1 = np.var(strat1)\n",
    "var2 = np.var(strat2)\n",
    "D = (w1 * var1 + w2 * var2) + (w1 * (mean_strat - mean1)**2 + w2 * (mean_strat-mean2)**2)\n",
    "\n",
    "print('Среднее число свободных мест: ', mean_strat)\n",
    "print('Оценки дисперсии числа свободных мест:', D)"
   ]
  },
  {
   "cell_type": "markdown",
   "metadata": {},
   "source": [
    "#### Задача 3"
   ]
  },
  {
   "cell_type": "markdown",
   "metadata": {},
   "source": [
    "Генеральная совокупность представляет собой смесь двух распределений: первое составляет 25% исходной генеральной совокупности, имеет дисперсию 4, второе - 75%,  дисперсию 6.25. Какими следует выбрать объемы выборок из данных страт так, чтобы оценка мат.ожидания исходной генеральной совокупности имела наименьшую дисперсию, если общий объем выборки должен равняться 100?"
   ]
  },
  {
   "cell_type": "code",
   "execution_count": 36,
   "metadata": {},
   "outputs": [
    {
     "data": {
      "text/plain": [
       "[21, 79]"
      ]
     },
     "execution_count": 36,
     "metadata": {},
     "output_type": "execute_result"
    }
   ],
   "source": [
    "def sample_num(n, weights, variances):\n",
    "    weighted_sum = np.sum(weight * (variance)**(1/2) for (weight,variance) in zip(weights, variances))\n",
    "    weighted_list = [n * weight * variance**(1/2) / weighted_sum for (weight,variance) in zip(weights, variances)]\n",
    "    weighted_int_list = [round(x) for x in weighted_list]\n",
    "    return weighted_int_list\n",
    "\n",
    "sample_num(100, [0.25, 0.75], [4, 6.25])"
   ]
  },
  {
   "cell_type": "markdown",
   "metadata": {},
   "source": [
    "#### Задача 4"
   ]
  },
  {
   "cell_type": "markdown",
   "metadata": {},
   "source": [
    "На основе продолжительных наблюдений за весом Х г. пакетов с орешками, заполняемых автоматически, установлено, что среднее квадратическое отклонение веса пакетов равно 10г. Средний вес 100 наудачу выбранных пакетов оказался равным 249 г. Укажите доверительный интервал для среднего веса пакетов, построенный с доверительной вероятностью 0.9. Предполагается, что распределение веса пакетиков подчиняется нормальному закону распределения."
   ]
  },
  {
   "cell_type": "code",
   "execution_count": 49,
   "metadata": {},
   "outputs": [
    {
     "name": "stdout",
     "output_type": "stream",
     "text": [
      "Левая часть: 247.355, Правая часть: 250.645\n"
     ]
    }
   ],
   "source": [
    "sigma = 10\n",
    "mean = 249\n",
    "n = 100\n",
    "p = 0.9\n",
    "alpha = 0.1\n",
    "\n",
    "# Квантили\n",
    "quart = 1 - alpha/2\n",
    "u1 =stats.norm.ppf(quart)\n",
    "u2 = -stats.norm.ppf(quart)\n",
    "\n",
    "# Левая часть\n",
    "left = mean - u1\n",
    "# Правая часть\n",
    "right = mean + u1\n",
    "print('Левая часть: {left:.3f}, Правая часть: {right:.3f}'.format(left=left, right=right))"
   ]
  },
  {
   "cell_type": "markdown",
   "metadata": {},
   "source": [
    "#### Задача 5"
   ]
  },
  {
   "cell_type": "markdown",
   "metadata": {},
   "source": [
    "Постройте 95%-доверительный интервал для дисперсии σ2  ошибок измерений, если  предполагается, что ошибки измерений подчиняются нормальному закону с мат.ожиданием a=0 и неизвестной дисперсией σ2. "
   ]
  },
  {
   "cell_type": "code",
   "execution_count": 59,
   "metadata": {},
   "outputs": [
    {
     "name": "stdout",
     "output_type": "stream",
     "text": [
      "Левая граница: 0.482, Правая граница: 1.718\n"
     ]
    }
   ],
   "source": [
    "listec = [0.55, -0.52, 0.9, -0.91, -0.5, -0.05, -0.06, -0.34, -1.88,\\\n",
    "          -0.53, 0.74, -0.24, -0.5, -0.72, 1.59, 0.97, -0.71, -1.01, 1.79, 0.71]\n",
    "alfa= 0.05\n",
    "S2 = sum([x**2 for x in listec])/len(listec)\n",
    "n = len(listec)\n",
    "\n",
    "#Квантиль 1-alfa/2\n",
    "k1 = stats.chi2.ppf((1-alfa/2), (n))\n",
    "#Квантиль 1-alfa\n",
    "k2 = stats.chi2.ppf((alfa/2), (n))\n",
    "#Левая часть\n",
    "left = (n*S2/k1)\n",
    "#Правая часть\n",
    "right = ((n)*S2/k2)\n",
    "\n",
    "print('Левая граница: {left:.3f}, Правая граница: {right:.3f}'.format(left=left, right=right))"
   ]
  },
  {
   "cell_type": "markdown",
   "metadata": {},
   "source": [
    "#### Задача 6"
   ]
  },
  {
   "cell_type": "markdown",
   "metadata": {},
   "source": [
    "Большая партия изделий может содержать некоторую долю дефектных. Поставщик утверждает, что эта доля составляет 5%, покупатель  предполагает, что доля дефектных изделий равна 10%.\n",
    "\n",
    "По предложенной выборке постройте 95%-й приближенный доверительный интервал  для доли брака в партии  и ответьте на вопрос: с большей степенью уверенности можно утверждать, что доля брака  в партии больше 5%? (G - доля брака больше 5%, L - в противном случае)"
   ]
  },
  {
   "cell_type": "code",
   "execution_count": 55,
   "metadata": {},
   "outputs": [],
   "source": [
    "listec = [1, 0, 0, 0, 1, 0, 0, 1, 0, 0, 0, 0, 0, 0, 0, 0, 0, 0, 1, 0, 1, 0, 1, 1, 1, 0, 0, 1, 0, 0, 1, 0, 0, 0, 0, 0, 0, 0, 0, 0, 1, 0, 0, 0, 0, 0, 0, 0, 0, 0, 0, 1, 0, 0, 0, 0, 0, 0, 0, 0, 1, 0, 0, 1, 0, 1, 0, 1, 0, 0, 0, 0, 1, 0, 0, 0, 0, 0, 0, 0, 0, 0, 0, 0, 0, 0, 0, 0, 0, 0, 0, 0, 0, 0, 0, 0, 0, 0, 0, 0, 0, 1, 0, 0, 1, 0, 0, 1, 0, 0, 0, 0, 0, 0, 0, 0, 0, 0, 0, 0, 1, 1, 0, 0, 1, 1, 0, 0, 1, 0, 1, 0, 0, 1, 0, 0, 0, 1, 0, 0, 0, 0, 1, 0, 0, 1, 0, 0, 0, 0, 0, 0, 0, 0, 0, 0, 0, 0, 1, 1, 0, 0, 1, 0, 0, 0, 0, 0, 1, 0, 0, 0, 0, 0, 0, 0, 0, 0, 0, 0, 0, 0, 0, 1, 0, 0, 0, 1, 0, 1, 0, 0, 1, 0, 0, 0, 0, 0, 0, 0, 0, 0, 0, 0, 1, 0, 0, 1, 0, 0, 0, 0, 0, 1, 0, 0, 0, 0, 0, 0, 0, 0, 0, 0, 1, 0, 0, 0, 0, 1, 0, 1, 0, 0, 0, 0, 0, 0, 0, 0, 0, 0, 1, 0, 0, 0, 1, 0, 0, 0, 0, 0, 0, 0, 0, 0, 0, 0, 0, 0, 0, 0, 0, 0, 0, 1, 0, 1, 0, 0, 0, 0, 0, 0, 0, 0, 0, 0, 0, 0, 0, 0, 0, 0, 0, 0, 0, 0, 1, 0, 0, 0, 0, 0, 0, 0, 1, 0, 1, 0, 0, 1, 0, 0, 0, 0, 0, 0, 0, 0, 0, 1, 0, 0, 0, 0, 0, 0, 1, 0, 0, 0, 0, 0, 0, 0, 0, 1, 0, 0, 0, 0, 1, 1, 0, 1, 1, 0, 1, 0, 0, 0, 0, 0, 1, 0, 0, 0, 0, 0, 0, 0, 0, 0, 0, 1, 0, 0, 0, 0, 0, 0, 1, 0, 0, 0, 0, 0, 0, 0, 0, 0, 0, 1, 0, 0, 1, 1, 0, 0, 0, 0, 0, 0, 0, 0, 0, 0, 0, 0, 0, 0, 0, 0, 0, 0, 0, 0, 0, 0, 0, 0, 0, 0, 1, 0, 1, 0, 0, 0, 0, 1, 0, 0, 0, 0, 0, 0, 0, 0, 0, 0, 1, 0, 0, 0, 0, 0, 1, 1, 1, 1, 0, 0, 0, 0, 0, 1, 0, 0, 1, 1, 0, 0, 0, 0, 0, 0, 0, 0, 0, 0, 0, 0, 0, 1, 0, 0, 0, 0, 0, 0, 0, 0, 0, 0, 0, 0, 0, 0, 1, 0, 0, 1, 0, 1, 0, 1, 0, 0, 0, 0, 0, 0, 0, 0, 0, 0, 0, 0, 0, 0, 0, 0, 0, 1, 1, 0, 1, 1]"
   ]
  },
  {
   "cell_type": "code",
   "execution_count": 57,
   "metadata": {},
   "outputs": [
    {
     "name": "stdout",
     "output_type": "stream",
     "text": [
      "Левая граница: 0.139, Правая граница: 0.205\n"
     ]
    }
   ],
   "source": [
    "tetta = sum(listec) / len(listec)\n",
    "S2 = (sum([((x-tetta)**2) for x in listec])/(len(listec)))**(1/2)\n",
    "alfa = 0.05\n",
    "n = len(listec)\n",
    "#Квантиль 1-alfa/2\n",
    "u1 = stats.norm.ppf((1-alfa/2))\n",
    "#Квантиль alfa/2\n",
    "u2 = stats.norm.ppf(alfa/2)\n",
    "#Левая часть\n",
    "left = (tetta - u1*S2/n**(1/2))\n",
    "#Правая часть\n",
    "right = (tetta + u1*S2/n**(1/2))\n",
    "\n",
    "print('Левая граница: {left:.3f}, Правая граница: {right:.3f}'.format(left=left, right=right))"
   ]
  }
 ],
 "metadata": {
  "kernelspec": {
   "display_name": "Python 3",
   "language": "python",
   "name": "python3"
  },
  "language_info": {
   "codemirror_mode": {
    "name": "ipython",
    "version": 3
   },
   "file_extension": ".py",
   "mimetype": "text/x-python",
   "name": "python",
   "nbconvert_exporter": "python",
   "pygments_lexer": "ipython3",
   "version": "3.8.5"
  }
 },
 "nbformat": 4,
 "nbformat_minor": 4
}
